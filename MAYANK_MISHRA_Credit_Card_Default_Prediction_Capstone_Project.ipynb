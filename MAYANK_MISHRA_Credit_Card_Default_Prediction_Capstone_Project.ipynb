{
  "nbformat": 4,
  "nbformat_minor": 0,
  "metadata": {
    "colab": {
      "name": "MAYANK MISHRA: Credit Card Default Prediction - Capstone Project.ipynb",
      "provenance": [],
      "collapsed_sections": [],
      "include_colab_link": true
    },
    "kernelspec": {
      "display_name": "Python 3",
      "language": "python",
      "name": "python3"
    },
    "language_info": {
      "codemirror_mode": {
        "name": "ipython",
        "version": 3
      },
      "file_extension": ".py",
      "mimetype": "text/x-python",
      "name": "python",
      "nbconvert_exporter": "python",
      "pygments_lexer": "ipython3",
      "version": "3.6.6"
    },
    "accelerator": "TPU"
  },
  "cells": [
    {
      "cell_type": "markdown",
      "metadata": {
        "id": "view-in-github",
        "colab_type": "text"
      },
      "source": [
        "<a href=\"https://colab.research.google.com/github/mmishra1092/Credit-Card-Default-Prediction/blob/main/MAYANK_MISHRA_Credit_Card_Default_Prediction_Capstone_Project.ipynb\" target=\"_parent\"><img src=\"https://colab.research.google.com/assets/colab-badge.svg\" alt=\"Open In Colab\"/></a>"
      ]
    },
    {
      "cell_type": "markdown",
      "metadata": {
        "id": "tOGC-qoyhJeX"
      },
      "source": [
        "# <b><u> Project Title : Predicting whether a customer will default on his/her credit card </u></b>"
      ]
    },
    {
      "cell_type": "markdown",
      "metadata": {
        "id": "Y06xIdG26kRF"
      },
      "source": [
        "## <b> Problem Description </b>\n",
        "\n",
        "### This project is aimed at predicting the case of customers default payments in Taiwan. From the perspective of risk management, the result of predictive accuracy of the estimated probability of default will be more valuable than the binary result of classification - credible or not credible clients. We can use the [K-S chart](https://www.listendata.com/2019/07/KS-Statistics-Python.html) to evaluate which customers will default on their credit card payments\n"
      ]
    },
    {
      "cell_type": "markdown",
      "metadata": {
        "id": "AlLxAtlziMbP"
      },
      "source": [
        "## <b> Data Description </b>\n",
        "\n",
        "### <b>Attribute Information: </b>\n",
        "\n",
        "### This research employed a binary variable, default payment (Yes = 1, No = 0), as the response variable. This study reviewed the literature and used the following 23 variables as explanatory variables:\n",
        "* ### X1: Amount of the given credit (NT dollar): it includes both the individual consumer credit and his/her family (supplementary) credit.\n",
        "* ### X2: Gender (1 = male; 2 = female).\n",
        "* ### X3: Education (1 = graduate school; 2 = university; 3 = high school; 4 = others).\n",
        "* ### X4: Marital status (1 = married; 2 = single; 3 = others).\n",
        "* ### X5: Age (year).\n",
        "* ### X6 - X11: History of past payment. We tracked the past monthly payment records (from April to September, 2005) as follows: X6 = the repayment status in September, 2005; X7 = the repayment status in August, 2005; . . .;X11 = the repayment status in April, 2005. The measurement scale for the repayment status is: -1 = pay duly; 1 = payment delay for one month; 2 = payment delay for two months; . . .; 8 = payment delay for eight months; 9 = payment delay for nine months and above.\n",
        "* ### X12-X17: Amount of bill statement (NT dollar). X12 = amount of bill statement in September, 2005; X13 = amount of bill statement in August, 2005; . . .; X17 = amount of bill statement in April, 2005.\n",
        "* ### X18-X23: Amount of previous payment (NT dollar). X18 = amount paid in September, 2005; X19 = amount paid in August, 2005; . . .;X23 = amount paid in April, 2005."
      ]
    },
    {
      "cell_type": "markdown",
      "metadata": {
        "id": "INzRnjoa9Unk"
      },
      "source": [
        "# Loading Dataset and Importing Packages"
      ]
    },
    {
      "cell_type": "code",
      "metadata": {
        "id": "dByMsuzT8Tnw"
      },
      "source": [
        "# Import all the necessary libraries\n",
        "\n",
        "import pandas as pd\n",
        "import numpy as np\n",
        "import seaborn as sns\n",
        "import matplotlib.pyplot as plt\n",
        "%matplotlib inline\n",
        "import warnings\n",
        "warnings.filterwarnings('ignore')\n",
        "\n",
        "from imblearn.over_sampling import SMOTE\n",
        "from sklearn.preprocessing import StandardScaler\n",
        "from sklearn.model_selection import train_test_split\n",
        "from sklearn.model_selection import GridSearchCV\n",
        "from sklearn.linear_model import LogisticRegression\n",
        "from sklearn.ensemble import RandomForestClassifier\n",
        "from sklearn.svm import SVC\n",
        "from sklearn import metrics\n",
        "from datetime import datetime\n",
        "\n",
        "from sklearn.metrics import accuracy_score\n",
        "from sklearn.metrics import recall_score\n",
        "from sklearn.metrics import precision_score\n",
        "from sklearn.metrics import f1_score\n",
        "from sklearn.metrics import roc_auc_score\n",
        "from sklearn.metrics import confusion_matrix\n",
        "from sklearn.metrics import roc_curve\n",
        "from sklearn.metrics import auc\n",
        "\n",
        "import lightgbm as lgb\n",
        "import xgboost as xgb\n",
        "from xgboost import XGBClassifier"
      ],
      "execution_count": 232,
      "outputs": []
    },
    {
      "cell_type": "code",
      "metadata": {
        "colab": {
          "base_uri": "https://localhost:8080/"
        },
        "id": "giaIBvet-np5",
        "outputId": "7319bde7-eef6-4048-d6a8-f89cbd8ce7ef"
      },
      "source": [
        "# Mount the drive\n",
        "from google.colab import drive\n",
        "drive.mount('/content/drive')"
      ],
      "execution_count": 233,
      "outputs": [
        {
          "output_type": "stream",
          "name": "stdout",
          "text": [
            "Drive already mounted at /content/drive; to attempt to forcibly remount, call drive.mount(\"/content/drive\", force_remount=True).\n"
          ]
        }
      ]
    },
    {
      "cell_type": "code",
      "metadata": {
        "id": "0Pan9Fh3-o1U"
      },
      "source": [
        "# Upload data path\n",
        "working_path = '/content/drive/MyDrive/Module: 4/Week_4/Capstone Project: Supervised ML: Classification/default of credit card clients.xls'"
      ],
      "execution_count": 234,
      "outputs": []
    },
    {
      "cell_type": "code",
      "metadata": {
        "id": "qRfrY3w8_Hvt"
      },
      "source": [
        "# Read data\n",
        "credit_data_df = pd.read_excel(working_path,header=1)"
      ],
      "execution_count": 235,
      "outputs": []
    },
    {
      "cell_type": "markdown",
      "metadata": {
        "id": "Chn-C3H0AWx5"
      },
      "source": [
        "# Dataset Information and Summary"
      ]
    },
    {
      "cell_type": "code",
      "metadata": {
        "colab": {
          "base_uri": "https://localhost:8080/",
          "height": 278
        },
        "id": "hazqIWeC_lPp",
        "outputId": "986a9c85-6036-4917-fc6f-1e6075858a7b"
      },
      "source": [
        "# View first 5 rows of dataset\n",
        "credit_data_df.head()"
      ],
      "execution_count": 236,
      "outputs": [
        {
          "output_type": "execute_result",
          "data": {
            "text/html": [
              "<div>\n",
              "<style scoped>\n",
              "    .dataframe tbody tr th:only-of-type {\n",
              "        vertical-align: middle;\n",
              "    }\n",
              "\n",
              "    .dataframe tbody tr th {\n",
              "        vertical-align: top;\n",
              "    }\n",
              "\n",
              "    .dataframe thead th {\n",
              "        text-align: right;\n",
              "    }\n",
              "</style>\n",
              "<table border=\"1\" class=\"dataframe\">\n",
              "  <thead>\n",
              "    <tr style=\"text-align: right;\">\n",
              "      <th></th>\n",
              "      <th>ID</th>\n",
              "      <th>LIMIT_BAL</th>\n",
              "      <th>SEX</th>\n",
              "      <th>EDUCATION</th>\n",
              "      <th>MARRIAGE</th>\n",
              "      <th>AGE</th>\n",
              "      <th>PAY_0</th>\n",
              "      <th>PAY_2</th>\n",
              "      <th>PAY_3</th>\n",
              "      <th>PAY_4</th>\n",
              "      <th>PAY_5</th>\n",
              "      <th>PAY_6</th>\n",
              "      <th>BILL_AMT1</th>\n",
              "      <th>BILL_AMT2</th>\n",
              "      <th>BILL_AMT3</th>\n",
              "      <th>BILL_AMT4</th>\n",
              "      <th>BILL_AMT5</th>\n",
              "      <th>BILL_AMT6</th>\n",
              "      <th>PAY_AMT1</th>\n",
              "      <th>PAY_AMT2</th>\n",
              "      <th>PAY_AMT3</th>\n",
              "      <th>PAY_AMT4</th>\n",
              "      <th>PAY_AMT5</th>\n",
              "      <th>PAY_AMT6</th>\n",
              "      <th>default payment next month</th>\n",
              "    </tr>\n",
              "  </thead>\n",
              "  <tbody>\n",
              "    <tr>\n",
              "      <th>0</th>\n",
              "      <td>1</td>\n",
              "      <td>20000</td>\n",
              "      <td>2</td>\n",
              "      <td>2</td>\n",
              "      <td>1</td>\n",
              "      <td>24</td>\n",
              "      <td>2</td>\n",
              "      <td>2</td>\n",
              "      <td>-1</td>\n",
              "      <td>-1</td>\n",
              "      <td>-2</td>\n",
              "      <td>-2</td>\n",
              "      <td>3913</td>\n",
              "      <td>3102</td>\n",
              "      <td>689</td>\n",
              "      <td>0</td>\n",
              "      <td>0</td>\n",
              "      <td>0</td>\n",
              "      <td>0</td>\n",
              "      <td>689</td>\n",
              "      <td>0</td>\n",
              "      <td>0</td>\n",
              "      <td>0</td>\n",
              "      <td>0</td>\n",
              "      <td>1</td>\n",
              "    </tr>\n",
              "    <tr>\n",
              "      <th>1</th>\n",
              "      <td>2</td>\n",
              "      <td>120000</td>\n",
              "      <td>2</td>\n",
              "      <td>2</td>\n",
              "      <td>2</td>\n",
              "      <td>26</td>\n",
              "      <td>-1</td>\n",
              "      <td>2</td>\n",
              "      <td>0</td>\n",
              "      <td>0</td>\n",
              "      <td>0</td>\n",
              "      <td>2</td>\n",
              "      <td>2682</td>\n",
              "      <td>1725</td>\n",
              "      <td>2682</td>\n",
              "      <td>3272</td>\n",
              "      <td>3455</td>\n",
              "      <td>3261</td>\n",
              "      <td>0</td>\n",
              "      <td>1000</td>\n",
              "      <td>1000</td>\n",
              "      <td>1000</td>\n",
              "      <td>0</td>\n",
              "      <td>2000</td>\n",
              "      <td>1</td>\n",
              "    </tr>\n",
              "    <tr>\n",
              "      <th>2</th>\n",
              "      <td>3</td>\n",
              "      <td>90000</td>\n",
              "      <td>2</td>\n",
              "      <td>2</td>\n",
              "      <td>2</td>\n",
              "      <td>34</td>\n",
              "      <td>0</td>\n",
              "      <td>0</td>\n",
              "      <td>0</td>\n",
              "      <td>0</td>\n",
              "      <td>0</td>\n",
              "      <td>0</td>\n",
              "      <td>29239</td>\n",
              "      <td>14027</td>\n",
              "      <td>13559</td>\n",
              "      <td>14331</td>\n",
              "      <td>14948</td>\n",
              "      <td>15549</td>\n",
              "      <td>1518</td>\n",
              "      <td>1500</td>\n",
              "      <td>1000</td>\n",
              "      <td>1000</td>\n",
              "      <td>1000</td>\n",
              "      <td>5000</td>\n",
              "      <td>0</td>\n",
              "    </tr>\n",
              "    <tr>\n",
              "      <th>3</th>\n",
              "      <td>4</td>\n",
              "      <td>50000</td>\n",
              "      <td>2</td>\n",
              "      <td>2</td>\n",
              "      <td>1</td>\n",
              "      <td>37</td>\n",
              "      <td>0</td>\n",
              "      <td>0</td>\n",
              "      <td>0</td>\n",
              "      <td>0</td>\n",
              "      <td>0</td>\n",
              "      <td>0</td>\n",
              "      <td>46990</td>\n",
              "      <td>48233</td>\n",
              "      <td>49291</td>\n",
              "      <td>28314</td>\n",
              "      <td>28959</td>\n",
              "      <td>29547</td>\n",
              "      <td>2000</td>\n",
              "      <td>2019</td>\n",
              "      <td>1200</td>\n",
              "      <td>1100</td>\n",
              "      <td>1069</td>\n",
              "      <td>1000</td>\n",
              "      <td>0</td>\n",
              "    </tr>\n",
              "    <tr>\n",
              "      <th>4</th>\n",
              "      <td>5</td>\n",
              "      <td>50000</td>\n",
              "      <td>1</td>\n",
              "      <td>2</td>\n",
              "      <td>1</td>\n",
              "      <td>57</td>\n",
              "      <td>-1</td>\n",
              "      <td>0</td>\n",
              "      <td>-1</td>\n",
              "      <td>0</td>\n",
              "      <td>0</td>\n",
              "      <td>0</td>\n",
              "      <td>8617</td>\n",
              "      <td>5670</td>\n",
              "      <td>35835</td>\n",
              "      <td>20940</td>\n",
              "      <td>19146</td>\n",
              "      <td>19131</td>\n",
              "      <td>2000</td>\n",
              "      <td>36681</td>\n",
              "      <td>10000</td>\n",
              "      <td>9000</td>\n",
              "      <td>689</td>\n",
              "      <td>679</td>\n",
              "      <td>0</td>\n",
              "    </tr>\n",
              "  </tbody>\n",
              "</table>\n",
              "</div>"
            ],
            "text/plain": [
              "   ID  LIMIT_BAL  SEX  ...  PAY_AMT5  PAY_AMT6  default payment next month\n",
              "0   1      20000    2  ...         0         0                           1\n",
              "1   2     120000    2  ...         0      2000                           1\n",
              "2   3      90000    2  ...      1000      5000                           0\n",
              "3   4      50000    2  ...      1069      1000                           0\n",
              "4   5      50000    1  ...       689       679                           0\n",
              "\n",
              "[5 rows x 25 columns]"
            ]
          },
          "metadata": {},
          "execution_count": 236
        }
      ]
    },
    {
      "cell_type": "code",
      "metadata": {
        "colab": {
          "base_uri": "https://localhost:8080/",
          "height": 278
        },
        "id": "txMmOF-fAn7f",
        "outputId": "475e958d-b7e3-4d48-e48f-53267aa95141"
      },
      "source": [
        "# View last 5 rows of dataset\n",
        "credit_data_df.tail()"
      ],
      "execution_count": 237,
      "outputs": [
        {
          "output_type": "execute_result",
          "data": {
            "text/html": [
              "<div>\n",
              "<style scoped>\n",
              "    .dataframe tbody tr th:only-of-type {\n",
              "        vertical-align: middle;\n",
              "    }\n",
              "\n",
              "    .dataframe tbody tr th {\n",
              "        vertical-align: top;\n",
              "    }\n",
              "\n",
              "    .dataframe thead th {\n",
              "        text-align: right;\n",
              "    }\n",
              "</style>\n",
              "<table border=\"1\" class=\"dataframe\">\n",
              "  <thead>\n",
              "    <tr style=\"text-align: right;\">\n",
              "      <th></th>\n",
              "      <th>ID</th>\n",
              "      <th>LIMIT_BAL</th>\n",
              "      <th>SEX</th>\n",
              "      <th>EDUCATION</th>\n",
              "      <th>MARRIAGE</th>\n",
              "      <th>AGE</th>\n",
              "      <th>PAY_0</th>\n",
              "      <th>PAY_2</th>\n",
              "      <th>PAY_3</th>\n",
              "      <th>PAY_4</th>\n",
              "      <th>PAY_5</th>\n",
              "      <th>PAY_6</th>\n",
              "      <th>BILL_AMT1</th>\n",
              "      <th>BILL_AMT2</th>\n",
              "      <th>BILL_AMT3</th>\n",
              "      <th>BILL_AMT4</th>\n",
              "      <th>BILL_AMT5</th>\n",
              "      <th>BILL_AMT6</th>\n",
              "      <th>PAY_AMT1</th>\n",
              "      <th>PAY_AMT2</th>\n",
              "      <th>PAY_AMT3</th>\n",
              "      <th>PAY_AMT4</th>\n",
              "      <th>PAY_AMT5</th>\n",
              "      <th>PAY_AMT6</th>\n",
              "      <th>default payment next month</th>\n",
              "    </tr>\n",
              "  </thead>\n",
              "  <tbody>\n",
              "    <tr>\n",
              "      <th>29995</th>\n",
              "      <td>29996</td>\n",
              "      <td>220000</td>\n",
              "      <td>1</td>\n",
              "      <td>3</td>\n",
              "      <td>1</td>\n",
              "      <td>39</td>\n",
              "      <td>0</td>\n",
              "      <td>0</td>\n",
              "      <td>0</td>\n",
              "      <td>0</td>\n",
              "      <td>0</td>\n",
              "      <td>0</td>\n",
              "      <td>188948</td>\n",
              "      <td>192815</td>\n",
              "      <td>208365</td>\n",
              "      <td>88004</td>\n",
              "      <td>31237</td>\n",
              "      <td>15980</td>\n",
              "      <td>8500</td>\n",
              "      <td>20000</td>\n",
              "      <td>5003</td>\n",
              "      <td>3047</td>\n",
              "      <td>5000</td>\n",
              "      <td>1000</td>\n",
              "      <td>0</td>\n",
              "    </tr>\n",
              "    <tr>\n",
              "      <th>29996</th>\n",
              "      <td>29997</td>\n",
              "      <td>150000</td>\n",
              "      <td>1</td>\n",
              "      <td>3</td>\n",
              "      <td>2</td>\n",
              "      <td>43</td>\n",
              "      <td>-1</td>\n",
              "      <td>-1</td>\n",
              "      <td>-1</td>\n",
              "      <td>-1</td>\n",
              "      <td>0</td>\n",
              "      <td>0</td>\n",
              "      <td>1683</td>\n",
              "      <td>1828</td>\n",
              "      <td>3502</td>\n",
              "      <td>8979</td>\n",
              "      <td>5190</td>\n",
              "      <td>0</td>\n",
              "      <td>1837</td>\n",
              "      <td>3526</td>\n",
              "      <td>8998</td>\n",
              "      <td>129</td>\n",
              "      <td>0</td>\n",
              "      <td>0</td>\n",
              "      <td>0</td>\n",
              "    </tr>\n",
              "    <tr>\n",
              "      <th>29997</th>\n",
              "      <td>29998</td>\n",
              "      <td>30000</td>\n",
              "      <td>1</td>\n",
              "      <td>2</td>\n",
              "      <td>2</td>\n",
              "      <td>37</td>\n",
              "      <td>4</td>\n",
              "      <td>3</td>\n",
              "      <td>2</td>\n",
              "      <td>-1</td>\n",
              "      <td>0</td>\n",
              "      <td>0</td>\n",
              "      <td>3565</td>\n",
              "      <td>3356</td>\n",
              "      <td>2758</td>\n",
              "      <td>20878</td>\n",
              "      <td>20582</td>\n",
              "      <td>19357</td>\n",
              "      <td>0</td>\n",
              "      <td>0</td>\n",
              "      <td>22000</td>\n",
              "      <td>4200</td>\n",
              "      <td>2000</td>\n",
              "      <td>3100</td>\n",
              "      <td>1</td>\n",
              "    </tr>\n",
              "    <tr>\n",
              "      <th>29998</th>\n",
              "      <td>29999</td>\n",
              "      <td>80000</td>\n",
              "      <td>1</td>\n",
              "      <td>3</td>\n",
              "      <td>1</td>\n",
              "      <td>41</td>\n",
              "      <td>1</td>\n",
              "      <td>-1</td>\n",
              "      <td>0</td>\n",
              "      <td>0</td>\n",
              "      <td>0</td>\n",
              "      <td>-1</td>\n",
              "      <td>-1645</td>\n",
              "      <td>78379</td>\n",
              "      <td>76304</td>\n",
              "      <td>52774</td>\n",
              "      <td>11855</td>\n",
              "      <td>48944</td>\n",
              "      <td>85900</td>\n",
              "      <td>3409</td>\n",
              "      <td>1178</td>\n",
              "      <td>1926</td>\n",
              "      <td>52964</td>\n",
              "      <td>1804</td>\n",
              "      <td>1</td>\n",
              "    </tr>\n",
              "    <tr>\n",
              "      <th>29999</th>\n",
              "      <td>30000</td>\n",
              "      <td>50000</td>\n",
              "      <td>1</td>\n",
              "      <td>2</td>\n",
              "      <td>1</td>\n",
              "      <td>46</td>\n",
              "      <td>0</td>\n",
              "      <td>0</td>\n",
              "      <td>0</td>\n",
              "      <td>0</td>\n",
              "      <td>0</td>\n",
              "      <td>0</td>\n",
              "      <td>47929</td>\n",
              "      <td>48905</td>\n",
              "      <td>49764</td>\n",
              "      <td>36535</td>\n",
              "      <td>32428</td>\n",
              "      <td>15313</td>\n",
              "      <td>2078</td>\n",
              "      <td>1800</td>\n",
              "      <td>1430</td>\n",
              "      <td>1000</td>\n",
              "      <td>1000</td>\n",
              "      <td>1000</td>\n",
              "      <td>1</td>\n",
              "    </tr>\n",
              "  </tbody>\n",
              "</table>\n",
              "</div>"
            ],
            "text/plain": [
              "          ID  LIMIT_BAL  SEX  ...  PAY_AMT5  PAY_AMT6  default payment next month\n",
              "29995  29996     220000    1  ...      5000      1000                           0\n",
              "29996  29997     150000    1  ...         0         0                           0\n",
              "29997  29998      30000    1  ...      2000      3100                           1\n",
              "29998  29999      80000    1  ...     52964      1804                           1\n",
              "29999  30000      50000    1  ...      1000      1000                           1\n",
              "\n",
              "[5 rows x 25 columns]"
            ]
          },
          "metadata": {},
          "execution_count": 237
        }
      ]
    },
    {
      "cell_type": "code",
      "metadata": {
        "colab": {
          "base_uri": "https://localhost:8080/"
        },
        "id": "CdaMMko6AzI7",
        "outputId": "2bb5a6c1-1e50-480a-8c13-33455e622fef"
      },
      "source": [
        "# Lets know the shape of dataset\n",
        "credit_data_df.shape"
      ],
      "execution_count": 238,
      "outputs": [
        {
          "output_type": "execute_result",
          "data": {
            "text/plain": [
              "(30000, 25)"
            ]
          },
          "metadata": {},
          "execution_count": 238
        }
      ]
    },
    {
      "cell_type": "code",
      "metadata": {
        "colab": {
          "base_uri": "https://localhost:8080/"
        },
        "id": "cn-5y0OeBJif",
        "outputId": "9d2daf37-2728-41a8-ef7f-97eeb1bc1aea"
      },
      "source": [
        "# Get all the features of dataset\n",
        "credit_data_df.columns"
      ],
      "execution_count": 239,
      "outputs": [
        {
          "output_type": "execute_result",
          "data": {
            "text/plain": [
              "Index(['ID', 'LIMIT_BAL', 'SEX', 'EDUCATION', 'MARRIAGE', 'AGE', 'PAY_0',\n",
              "       'PAY_2', 'PAY_3', 'PAY_4', 'PAY_5', 'PAY_6', 'BILL_AMT1', 'BILL_AMT2',\n",
              "       'BILL_AMT3', 'BILL_AMT4', 'BILL_AMT5', 'BILL_AMT6', 'PAY_AMT1',\n",
              "       'PAY_AMT2', 'PAY_AMT3', 'PAY_AMT4', 'PAY_AMT5', 'PAY_AMT6',\n",
              "       'default payment next month'],\n",
              "      dtype='object')"
            ]
          },
          "metadata": {},
          "execution_count": 239
        }
      ]
    },
    {
      "cell_type": "code",
      "metadata": {
        "colab": {
          "base_uri": "https://localhost:8080/"
        },
        "id": "r_UJJ8v7B8mj",
        "outputId": "4c807689-f092-41c8-8255-ccd9b0d8e565"
      },
      "source": [
        "# View all the information summary about the dataset\n",
        "credit_data_df.info()"
      ],
      "execution_count": 240,
      "outputs": [
        {
          "output_type": "stream",
          "name": "stdout",
          "text": [
            "<class 'pandas.core.frame.DataFrame'>\n",
            "RangeIndex: 30000 entries, 0 to 29999\n",
            "Data columns (total 25 columns):\n",
            " #   Column                      Non-Null Count  Dtype\n",
            "---  ------                      --------------  -----\n",
            " 0   ID                          30000 non-null  int64\n",
            " 1   LIMIT_BAL                   30000 non-null  int64\n",
            " 2   SEX                         30000 non-null  int64\n",
            " 3   EDUCATION                   30000 non-null  int64\n",
            " 4   MARRIAGE                    30000 non-null  int64\n",
            " 5   AGE                         30000 non-null  int64\n",
            " 6   PAY_0                       30000 non-null  int64\n",
            " 7   PAY_2                       30000 non-null  int64\n",
            " 8   PAY_3                       30000 non-null  int64\n",
            " 9   PAY_4                       30000 non-null  int64\n",
            " 10  PAY_5                       30000 non-null  int64\n",
            " 11  PAY_6                       30000 non-null  int64\n",
            " 12  BILL_AMT1                   30000 non-null  int64\n",
            " 13  BILL_AMT2                   30000 non-null  int64\n",
            " 14  BILL_AMT3                   30000 non-null  int64\n",
            " 15  BILL_AMT4                   30000 non-null  int64\n",
            " 16  BILL_AMT5                   30000 non-null  int64\n",
            " 17  BILL_AMT6                   30000 non-null  int64\n",
            " 18  PAY_AMT1                    30000 non-null  int64\n",
            " 19  PAY_AMT2                    30000 non-null  int64\n",
            " 20  PAY_AMT3                    30000 non-null  int64\n",
            " 21  PAY_AMT4                    30000 non-null  int64\n",
            " 22  PAY_AMT5                    30000 non-null  int64\n",
            " 23  PAY_AMT6                    30000 non-null  int64\n",
            " 24  default payment next month  30000 non-null  int64\n",
            "dtypes: int64(25)\n",
            "memory usage: 5.7 MB\n"
          ]
        }
      ]
    },
    {
      "cell_type": "code",
      "metadata": {
        "colab": {
          "base_uri": "https://localhost:8080/"
        },
        "id": "eUCYBbcSJX8F",
        "outputId": "816b972b-38c7-46df-8365-48cbab13e19f"
      },
      "source": [
        "# Check the unique values\n",
        "credit_data_df.nunique()"
      ],
      "execution_count": 241,
      "outputs": [
        {
          "output_type": "execute_result",
          "data": {
            "text/plain": [
              "ID                            30000\n",
              "LIMIT_BAL                        81\n",
              "SEX                               2\n",
              "EDUCATION                         7\n",
              "MARRIAGE                          4\n",
              "AGE                              56\n",
              "PAY_0                            11\n",
              "PAY_2                            11\n",
              "PAY_3                            11\n",
              "PAY_4                            11\n",
              "PAY_5                            10\n",
              "PAY_6                            10\n",
              "BILL_AMT1                     22723\n",
              "BILL_AMT2                     22346\n",
              "BILL_AMT3                     22026\n",
              "BILL_AMT4                     21548\n",
              "BILL_AMT5                     21010\n",
              "BILL_AMT6                     20604\n",
              "PAY_AMT1                       7943\n",
              "PAY_AMT2                       7899\n",
              "PAY_AMT3                       7518\n",
              "PAY_AMT4                       6937\n",
              "PAY_AMT5                       6897\n",
              "PAY_AMT6                       6939\n",
              "default payment next month        2\n",
              "dtype: int64"
            ]
          },
          "metadata": {},
          "execution_count": 241
        }
      ]
    },
    {
      "cell_type": "code",
      "metadata": {
        "colab": {
          "base_uri": "https://localhost:8080/",
          "height": 833
        },
        "id": "CrDOPi4KJoDE",
        "outputId": "2738ec70-04a1-48b8-a9f5-38e443db7a07"
      },
      "source": [
        "# Check the description of the dataset\n",
        "credit_data_df.describe().T"
      ],
      "execution_count": 242,
      "outputs": [
        {
          "output_type": "execute_result",
          "data": {
            "text/html": [
              "<div>\n",
              "<style scoped>\n",
              "    .dataframe tbody tr th:only-of-type {\n",
              "        vertical-align: middle;\n",
              "    }\n",
              "\n",
              "    .dataframe tbody tr th {\n",
              "        vertical-align: top;\n",
              "    }\n",
              "\n",
              "    .dataframe thead th {\n",
              "        text-align: right;\n",
              "    }\n",
              "</style>\n",
              "<table border=\"1\" class=\"dataframe\">\n",
              "  <thead>\n",
              "    <tr style=\"text-align: right;\">\n",
              "      <th></th>\n",
              "      <th>count</th>\n",
              "      <th>mean</th>\n",
              "      <th>std</th>\n",
              "      <th>min</th>\n",
              "      <th>25%</th>\n",
              "      <th>50%</th>\n",
              "      <th>75%</th>\n",
              "      <th>max</th>\n",
              "    </tr>\n",
              "  </thead>\n",
              "  <tbody>\n",
              "    <tr>\n",
              "      <th>ID</th>\n",
              "      <td>30000.0</td>\n",
              "      <td>15000.500000</td>\n",
              "      <td>8660.398374</td>\n",
              "      <td>1.0</td>\n",
              "      <td>7500.75</td>\n",
              "      <td>15000.5</td>\n",
              "      <td>22500.25</td>\n",
              "      <td>30000.0</td>\n",
              "    </tr>\n",
              "    <tr>\n",
              "      <th>LIMIT_BAL</th>\n",
              "      <td>30000.0</td>\n",
              "      <td>167484.322667</td>\n",
              "      <td>129747.661567</td>\n",
              "      <td>10000.0</td>\n",
              "      <td>50000.00</td>\n",
              "      <td>140000.0</td>\n",
              "      <td>240000.00</td>\n",
              "      <td>1000000.0</td>\n",
              "    </tr>\n",
              "    <tr>\n",
              "      <th>SEX</th>\n",
              "      <td>30000.0</td>\n",
              "      <td>1.603733</td>\n",
              "      <td>0.489129</td>\n",
              "      <td>1.0</td>\n",
              "      <td>1.00</td>\n",
              "      <td>2.0</td>\n",
              "      <td>2.00</td>\n",
              "      <td>2.0</td>\n",
              "    </tr>\n",
              "    <tr>\n",
              "      <th>EDUCATION</th>\n",
              "      <td>30000.0</td>\n",
              "      <td>1.853133</td>\n",
              "      <td>0.790349</td>\n",
              "      <td>0.0</td>\n",
              "      <td>1.00</td>\n",
              "      <td>2.0</td>\n",
              "      <td>2.00</td>\n",
              "      <td>6.0</td>\n",
              "    </tr>\n",
              "    <tr>\n",
              "      <th>MARRIAGE</th>\n",
              "      <td>30000.0</td>\n",
              "      <td>1.551867</td>\n",
              "      <td>0.521970</td>\n",
              "      <td>0.0</td>\n",
              "      <td>1.00</td>\n",
              "      <td>2.0</td>\n",
              "      <td>2.00</td>\n",
              "      <td>3.0</td>\n",
              "    </tr>\n",
              "    <tr>\n",
              "      <th>AGE</th>\n",
              "      <td>30000.0</td>\n",
              "      <td>35.485500</td>\n",
              "      <td>9.217904</td>\n",
              "      <td>21.0</td>\n",
              "      <td>28.00</td>\n",
              "      <td>34.0</td>\n",
              "      <td>41.00</td>\n",
              "      <td>79.0</td>\n",
              "    </tr>\n",
              "    <tr>\n",
              "      <th>PAY_0</th>\n",
              "      <td>30000.0</td>\n",
              "      <td>-0.016700</td>\n",
              "      <td>1.123802</td>\n",
              "      <td>-2.0</td>\n",
              "      <td>-1.00</td>\n",
              "      <td>0.0</td>\n",
              "      <td>0.00</td>\n",
              "      <td>8.0</td>\n",
              "    </tr>\n",
              "    <tr>\n",
              "      <th>PAY_2</th>\n",
              "      <td>30000.0</td>\n",
              "      <td>-0.133767</td>\n",
              "      <td>1.197186</td>\n",
              "      <td>-2.0</td>\n",
              "      <td>-1.00</td>\n",
              "      <td>0.0</td>\n",
              "      <td>0.00</td>\n",
              "      <td>8.0</td>\n",
              "    </tr>\n",
              "    <tr>\n",
              "      <th>PAY_3</th>\n",
              "      <td>30000.0</td>\n",
              "      <td>-0.166200</td>\n",
              "      <td>1.196868</td>\n",
              "      <td>-2.0</td>\n",
              "      <td>-1.00</td>\n",
              "      <td>0.0</td>\n",
              "      <td>0.00</td>\n",
              "      <td>8.0</td>\n",
              "    </tr>\n",
              "    <tr>\n",
              "      <th>PAY_4</th>\n",
              "      <td>30000.0</td>\n",
              "      <td>-0.220667</td>\n",
              "      <td>1.169139</td>\n",
              "      <td>-2.0</td>\n",
              "      <td>-1.00</td>\n",
              "      <td>0.0</td>\n",
              "      <td>0.00</td>\n",
              "      <td>8.0</td>\n",
              "    </tr>\n",
              "    <tr>\n",
              "      <th>PAY_5</th>\n",
              "      <td>30000.0</td>\n",
              "      <td>-0.266200</td>\n",
              "      <td>1.133187</td>\n",
              "      <td>-2.0</td>\n",
              "      <td>-1.00</td>\n",
              "      <td>0.0</td>\n",
              "      <td>0.00</td>\n",
              "      <td>8.0</td>\n",
              "    </tr>\n",
              "    <tr>\n",
              "      <th>PAY_6</th>\n",
              "      <td>30000.0</td>\n",
              "      <td>-0.291100</td>\n",
              "      <td>1.149988</td>\n",
              "      <td>-2.0</td>\n",
              "      <td>-1.00</td>\n",
              "      <td>0.0</td>\n",
              "      <td>0.00</td>\n",
              "      <td>8.0</td>\n",
              "    </tr>\n",
              "    <tr>\n",
              "      <th>BILL_AMT1</th>\n",
              "      <td>30000.0</td>\n",
              "      <td>51223.330900</td>\n",
              "      <td>73635.860576</td>\n",
              "      <td>-165580.0</td>\n",
              "      <td>3558.75</td>\n",
              "      <td>22381.5</td>\n",
              "      <td>67091.00</td>\n",
              "      <td>964511.0</td>\n",
              "    </tr>\n",
              "    <tr>\n",
              "      <th>BILL_AMT2</th>\n",
              "      <td>30000.0</td>\n",
              "      <td>49179.075167</td>\n",
              "      <td>71173.768783</td>\n",
              "      <td>-69777.0</td>\n",
              "      <td>2984.75</td>\n",
              "      <td>21200.0</td>\n",
              "      <td>64006.25</td>\n",
              "      <td>983931.0</td>\n",
              "    </tr>\n",
              "    <tr>\n",
              "      <th>BILL_AMT3</th>\n",
              "      <td>30000.0</td>\n",
              "      <td>47013.154800</td>\n",
              "      <td>69349.387427</td>\n",
              "      <td>-157264.0</td>\n",
              "      <td>2666.25</td>\n",
              "      <td>20088.5</td>\n",
              "      <td>60164.75</td>\n",
              "      <td>1664089.0</td>\n",
              "    </tr>\n",
              "    <tr>\n",
              "      <th>BILL_AMT4</th>\n",
              "      <td>30000.0</td>\n",
              "      <td>43262.948967</td>\n",
              "      <td>64332.856134</td>\n",
              "      <td>-170000.0</td>\n",
              "      <td>2326.75</td>\n",
              "      <td>19052.0</td>\n",
              "      <td>54506.00</td>\n",
              "      <td>891586.0</td>\n",
              "    </tr>\n",
              "    <tr>\n",
              "      <th>BILL_AMT5</th>\n",
              "      <td>30000.0</td>\n",
              "      <td>40311.400967</td>\n",
              "      <td>60797.155770</td>\n",
              "      <td>-81334.0</td>\n",
              "      <td>1763.00</td>\n",
              "      <td>18104.5</td>\n",
              "      <td>50190.50</td>\n",
              "      <td>927171.0</td>\n",
              "    </tr>\n",
              "    <tr>\n",
              "      <th>BILL_AMT6</th>\n",
              "      <td>30000.0</td>\n",
              "      <td>38871.760400</td>\n",
              "      <td>59554.107537</td>\n",
              "      <td>-339603.0</td>\n",
              "      <td>1256.00</td>\n",
              "      <td>17071.0</td>\n",
              "      <td>49198.25</td>\n",
              "      <td>961664.0</td>\n",
              "    </tr>\n",
              "    <tr>\n",
              "      <th>PAY_AMT1</th>\n",
              "      <td>30000.0</td>\n",
              "      <td>5663.580500</td>\n",
              "      <td>16563.280354</td>\n",
              "      <td>0.0</td>\n",
              "      <td>1000.00</td>\n",
              "      <td>2100.0</td>\n",
              "      <td>5006.00</td>\n",
              "      <td>873552.0</td>\n",
              "    </tr>\n",
              "    <tr>\n",
              "      <th>PAY_AMT2</th>\n",
              "      <td>30000.0</td>\n",
              "      <td>5921.163500</td>\n",
              "      <td>23040.870402</td>\n",
              "      <td>0.0</td>\n",
              "      <td>833.00</td>\n",
              "      <td>2009.0</td>\n",
              "      <td>5000.00</td>\n",
              "      <td>1684259.0</td>\n",
              "    </tr>\n",
              "    <tr>\n",
              "      <th>PAY_AMT3</th>\n",
              "      <td>30000.0</td>\n",
              "      <td>5225.681500</td>\n",
              "      <td>17606.961470</td>\n",
              "      <td>0.0</td>\n",
              "      <td>390.00</td>\n",
              "      <td>1800.0</td>\n",
              "      <td>4505.00</td>\n",
              "      <td>896040.0</td>\n",
              "    </tr>\n",
              "    <tr>\n",
              "      <th>PAY_AMT4</th>\n",
              "      <td>30000.0</td>\n",
              "      <td>4826.076867</td>\n",
              "      <td>15666.159744</td>\n",
              "      <td>0.0</td>\n",
              "      <td>296.00</td>\n",
              "      <td>1500.0</td>\n",
              "      <td>4013.25</td>\n",
              "      <td>621000.0</td>\n",
              "    </tr>\n",
              "    <tr>\n",
              "      <th>PAY_AMT5</th>\n",
              "      <td>30000.0</td>\n",
              "      <td>4799.387633</td>\n",
              "      <td>15278.305679</td>\n",
              "      <td>0.0</td>\n",
              "      <td>252.50</td>\n",
              "      <td>1500.0</td>\n",
              "      <td>4031.50</td>\n",
              "      <td>426529.0</td>\n",
              "    </tr>\n",
              "    <tr>\n",
              "      <th>PAY_AMT6</th>\n",
              "      <td>30000.0</td>\n",
              "      <td>5215.502567</td>\n",
              "      <td>17777.465775</td>\n",
              "      <td>0.0</td>\n",
              "      <td>117.75</td>\n",
              "      <td>1500.0</td>\n",
              "      <td>4000.00</td>\n",
              "      <td>528666.0</td>\n",
              "    </tr>\n",
              "    <tr>\n",
              "      <th>default payment next month</th>\n",
              "      <td>30000.0</td>\n",
              "      <td>0.221200</td>\n",
              "      <td>0.415062</td>\n",
              "      <td>0.0</td>\n",
              "      <td>0.00</td>\n",
              "      <td>0.0</td>\n",
              "      <td>0.00</td>\n",
              "      <td>1.0</td>\n",
              "    </tr>\n",
              "  </tbody>\n",
              "</table>\n",
              "</div>"
            ],
            "text/plain": [
              "                              count           mean  ...        75%        max\n",
              "ID                          30000.0   15000.500000  ...   22500.25    30000.0\n",
              "LIMIT_BAL                   30000.0  167484.322667  ...  240000.00  1000000.0\n",
              "SEX                         30000.0       1.603733  ...       2.00        2.0\n",
              "EDUCATION                   30000.0       1.853133  ...       2.00        6.0\n",
              "MARRIAGE                    30000.0       1.551867  ...       2.00        3.0\n",
              "AGE                         30000.0      35.485500  ...      41.00       79.0\n",
              "PAY_0                       30000.0      -0.016700  ...       0.00        8.0\n",
              "PAY_2                       30000.0      -0.133767  ...       0.00        8.0\n",
              "PAY_3                       30000.0      -0.166200  ...       0.00        8.0\n",
              "PAY_4                       30000.0      -0.220667  ...       0.00        8.0\n",
              "PAY_5                       30000.0      -0.266200  ...       0.00        8.0\n",
              "PAY_6                       30000.0      -0.291100  ...       0.00        8.0\n",
              "BILL_AMT1                   30000.0   51223.330900  ...   67091.00   964511.0\n",
              "BILL_AMT2                   30000.0   49179.075167  ...   64006.25   983931.0\n",
              "BILL_AMT3                   30000.0   47013.154800  ...   60164.75  1664089.0\n",
              "BILL_AMT4                   30000.0   43262.948967  ...   54506.00   891586.0\n",
              "BILL_AMT5                   30000.0   40311.400967  ...   50190.50   927171.0\n",
              "BILL_AMT6                   30000.0   38871.760400  ...   49198.25   961664.0\n",
              "PAY_AMT1                    30000.0    5663.580500  ...    5006.00   873552.0\n",
              "PAY_AMT2                    30000.0    5921.163500  ...    5000.00  1684259.0\n",
              "PAY_AMT3                    30000.0    5225.681500  ...    4505.00   896040.0\n",
              "PAY_AMT4                    30000.0    4826.076867  ...    4013.25   621000.0\n",
              "PAY_AMT5                    30000.0    4799.387633  ...    4031.50   426529.0\n",
              "PAY_AMT6                    30000.0    5215.502567  ...    4000.00   528666.0\n",
              "default payment next month  30000.0       0.221200  ...       0.00        1.0\n",
              "\n",
              "[25 rows x 8 columns]"
            ]
          },
          "metadata": {},
          "execution_count": 242
        }
      ]
    },
    {
      "cell_type": "markdown",
      "metadata": {
        "id": "Ffgt8rrdKarV"
      },
      "source": [
        "**Insights:** Tha dataset has 30000 observations and 25 features.\n",
        "\n",
        "*   default payment next month is our target variable\n",
        "\n",
        "\n"
      ]
    },
    {
      "cell_type": "markdown",
      "metadata": {
        "id": "LJD_RTqrK2Kg"
      },
      "source": [
        "# Features Description:\n",
        "\n",
        "*   ID : Id of every client.\n",
        "*   LIMIT_BAL: Amount of the given credit (NT dollar): includes both the individual consumer credit and his/her family (supplementary) credit.\n",
        "*   SEX: Gender (1 = male; 2 = female).\n",
        "*   EDUCATION: 1 = graduate school; 2 = university; 3 = high school; 4 = others.\n",
        "*   MARRIAGE: Marital status (1 = married; 2 = single; 3 = others).\n",
        "*   AGE: Age (year)\n",
        "\n",
        "Scale of PAY_0 to PAY_6:\n",
        "\n",
        "\n",
        "\n",
        "(-2 = No consumption, -1 = paid in full, 0 = use of revolving credit (paid minimum only), 1 = payment delay for one month, 2 = payment delay for two months, ... 8 = payment delay for eight months, 9 = payment delay for nine months and above)\n",
        "\n",
        "\n",
        "*   PAY_0: Repayment status in sep,2005 (scale same as above)\n",
        "*   PAY_2: Repayment status in Aug,2005 (scale same as above)\n",
        "*   PAY_3: Repayment status in July,2005 (scale same as above)\n",
        "*   PAY_4: Repayment status in June,2005 (scale same as above)\n",
        "*   PAY_5: Repayment status in May,2005 (scale same as above)\n",
        "*   PAY_6: Repayment status in April,2005 (scale same as above)\n",
        "\n",
        "*   BILL_AMT1: Amount of bill in sep,2005(NT dollar)\n",
        "*   BILL_AMT2: Amount of bill in Aug,2005(NT dollar)\n",
        "*   BILL_AMT3: Amount of bill in July,2005(NT dollar)\n",
        "*   BILL_AMT4: Amount of bill in June,2005(NT dollar)\n",
        "*   BILL_AMT5: Amount of bill in May,2005(NT dollar)\n",
        "*   BILL_AMT6: Amount of bill in April,2005(NT dollar)\n",
        "\n",
        "\n",
        "*   PAY_AMT1: Amount of previous statement in sep,2005(NT dollar)\n",
        "*   PAY_AMT2: Amount of previous statement in Aug,2005(NT dollar)\n",
        "*   PAY_AMT3: Amount of previous statement in July,2005(NT dollar)\n",
        "*   PAY_AMT4: Amount of previous statement in June,2005(NT dollar)\n",
        "*   PAY_AMT5: Amount of previous statement in May,2005(NT dollar)\n",
        "*   PAY_AMT1: Amount of previous statement in April,2005(NT dollar)\n",
        "\n",
        "\n",
        "*   default.payment.next.month: Default payment (1=yes, 0=no)\n",
        "\n",
        "Our dataset has the observations of past 6 months of credit card transaction.\n"
      ]
    },
    {
      "cell_type": "markdown",
      "metadata": {
        "id": "-_eL6UkoRY6E"
      },
      "source": [
        "# Data Preprocessing"
      ]
    },
    {
      "cell_type": "code",
      "metadata": {
        "colab": {
          "base_uri": "https://localhost:8080/"
        },
        "id": "mb9Jpg9MJ05Z",
        "outputId": "2d0e2dfb-5f96-4ae0-a35a-a9fffd1a425e"
      },
      "source": [
        "# Check the missing value\n",
        "credit_data_df.isnull().sum()"
      ],
      "execution_count": 243,
      "outputs": [
        {
          "output_type": "execute_result",
          "data": {
            "text/plain": [
              "ID                            0\n",
              "LIMIT_BAL                     0\n",
              "SEX                           0\n",
              "EDUCATION                     0\n",
              "MARRIAGE                      0\n",
              "AGE                           0\n",
              "PAY_0                         0\n",
              "PAY_2                         0\n",
              "PAY_3                         0\n",
              "PAY_4                         0\n",
              "PAY_5                         0\n",
              "PAY_6                         0\n",
              "BILL_AMT1                     0\n",
              "BILL_AMT2                     0\n",
              "BILL_AMT3                     0\n",
              "BILL_AMT4                     0\n",
              "BILL_AMT5                     0\n",
              "BILL_AMT6                     0\n",
              "PAY_AMT1                      0\n",
              "PAY_AMT2                      0\n",
              "PAY_AMT3                      0\n",
              "PAY_AMT4                      0\n",
              "PAY_AMT5                      0\n",
              "PAY_AMT6                      0\n",
              "default payment next month    0\n",
              "dtype: int64"
            ]
          },
          "metadata": {},
          "execution_count": 243
        }
      ]
    },
    {
      "cell_type": "markdown",
      "metadata": {
        "id": "IfClhNJxRwuo"
      },
      "source": [
        "\n",
        "\n",
        "*   There are no null values present in our dataset\n",
        "\n"
      ]
    },
    {
      "cell_type": "code",
      "metadata": {
        "colab": {
          "base_uri": "https://localhost:8080/"
        },
        "id": "y13MxViRRjVF",
        "outputId": "db8df8ce-bf14-4e22-b510-a559c14ad2cc"
      },
      "source": [
        "# Check duplicate values\n",
        "len(credit_data_df[credit_data_df.duplicated()])"
      ],
      "execution_count": 244,
      "outputs": [
        {
          "output_type": "execute_result",
          "data": {
            "text/plain": [
              "0"
            ]
          },
          "metadata": {},
          "execution_count": 244
        }
      ]
    },
    {
      "cell_type": "markdown",
      "metadata": {
        "id": "0Vri7ksBGrAQ"
      },
      "source": [
        "Insight: There are no duplicate and null values present in our dataset"
      ]
    },
    {
      "cell_type": "code",
      "metadata": {
        "id": "gxmCg_uuDRlJ"
      },
      "source": [
        "# Replacing categorical variable name\n",
        "credit_card_df=credit_data_df.replace({'SEX': {1 : 'male', 2 : 'female'}, 'EDUCATION' : {1 : 'graduate school', 2 : 'university', 3 : 'high school', 4 : 'others',0:'others'},\n",
        "                        'MARRIAGE' :{1 : 'married' , 2: 'single', 3: 'others'}},inplace = True)\n"
      ],
      "execution_count": 245,
      "outputs": []
    },
    {
      "cell_type": "markdown",
      "metadata": {
        "id": "JLnJzd8QjcxP"
      },
      "source": [
        "# Exploratory Data Analysis"
      ]
    },
    {
      "cell_type": "markdown",
      "metadata": {
        "id": "X5iwQClPjiZF"
      },
      "source": [
        "default payment next month: Analysis of dependent variable."
      ]
    },
    {
      "cell_type": "code",
      "metadata": {
        "id": "9oWWas7aSDBM"
      },
      "source": [
        "# Change the name of target variable\n",
        "credit_data_df.rename(columns={'default payment next month':'default_payment_next_month'},inplace=True)"
      ],
      "execution_count": 246,
      "outputs": []
    },
    {
      "cell_type": "code",
      "metadata": {
        "id": "djFAqIP2XNNN"
      },
      "source": [
        "# Replace target variable observation \n",
        "default_payment = credit_data_df.replace({'default_payment_next_month': {0 : 'no', 1 : 'yes'}},inplace = True)"
      ],
      "execution_count": 247,
      "outputs": []
    },
    {
      "cell_type": "code",
      "metadata": {
        "colab": {
          "base_uri": "https://localhost:8080/"
        },
        "id": "p6nAFQXYkl_G",
        "outputId": "5be98283-f3cd-4802-e5a7-38f7c2f2f3d7"
      },
      "source": [
        "# Number of target variable\n",
        "credit_data_df['default_payment_next_month'].value_counts()"
      ],
      "execution_count": 248,
      "outputs": [
        {
          "output_type": "execute_result",
          "data": {
            "text/plain": [
              "no     23364\n",
              "yes     6636\n",
              "Name: default_payment_next_month, dtype: int64"
            ]
          },
          "metadata": {},
          "execution_count": 248
        }
      ]
    },
    {
      "cell_type": "code",
      "metadata": {
        "colab": {
          "base_uri": "https://localhost:8080/"
        },
        "id": "NnjAhd9bk1Cn",
        "outputId": "e199b50c-e0a2-46cb-9780-6d65d7a5434a"
      },
      "source": [
        "# Customers who has default payment in next  month\n",
        "credit_data_df['default_payment_next_month'].value_counts(normalize=True)"
      ],
      "execution_count": 249,
      "outputs": [
        {
          "output_type": "execute_result",
          "data": {
            "text/plain": [
              "no     0.7788\n",
              "yes    0.2212\n",
              "Name: default_payment_next_month, dtype: float64"
            ]
          },
          "metadata": {},
          "execution_count": 249
        }
      ]
    },
    {
      "cell_type": "markdown",
      "metadata": {
        "id": "pk6FxZ3PlRCe"
      },
      "source": [
        "Here 0 is not default and 1 is default."
      ]
    },
    {
      "cell_type": "code",
      "metadata": {
        "colab": {
          "base_uri": "https://localhost:8080/",
          "height": 352
        },
        "id": "Q5_a7ubKlIdp",
        "outputId": "4a56fc9a-3b8f-4b94-edf1-9b7f7a53d172"
      },
      "source": [
        "# Plot the graph of defaulter and non defaulter\n",
        "plt.figure(figsize=(10,5))\n",
        "sns.countplot(x = 'default_payment_next_month', data = credit_data_df)"
      ],
      "execution_count": 250,
      "outputs": [
        {
          "output_type": "execute_result",
          "data": {
            "text/plain": [
              "<matplotlib.axes._subplots.AxesSubplot at 0x7f29e52b8e10>"
            ]
          },
          "metadata": {},
          "execution_count": 250
        },
        {
          "output_type": "display_data",
          "data": {
            "image/png": "[encoded data removed]",
            "text/plain": [
              "<Figure size 720x360 with 1 Axes>"
            ]
          },
          "metadata": {
            "needs_background": "light"
          }
        }
      ]
    },
    {
      "cell_type": "markdown",
      "metadata": {
        "id": "GVDYVWcGnqF3"
      },
      "source": [
        "Conclusion: From above plot we can conclude that defaulter are less in our dataset."
      ]
    },
    {
      "cell_type": "markdown",
      "metadata": {
        "id": "AtKRa0Cen9uM"
      },
      "source": [
        "# Analysis of Independent variable"
      ]
    },
    {
      "cell_type": "markdown",
      "metadata": {
        "id": "qr5aaWx5oQYP"
      },
      "source": [
        "\n",
        "\n",
        "*   We have few categorical features in our dataset:\n",
        "*   Sex\n",
        "*   Education\n",
        "*   Marriage\n",
        "*   Age"
      ]
    },
    {
      "cell_type": "markdown",
      "metadata": {
        "id": "OYSQROjNpkqw"
      },
      "source": [
        "# **Age**"
      ]
    },
    {
      "cell_type": "code",
      "metadata": {
        "colab": {
          "base_uri": "https://localhost:8080/",
          "height": 459
        },
        "id": "NWSH1ClzmwPF",
        "outputId": "76424e32-5695-4b54-a6e1-2549bbb037f9"
      },
      "source": [
        "# Plot the graph of number of ages of people with credit card.\n",
        "plt.figure(figsize=(15,7))\n",
        "sns.countplot(x = 'AGE', data = credit_data_df)"
      ],
      "execution_count": 251,
      "outputs": [
        {
          "output_type": "execute_result",
          "data": {
            "text/plain": [
              "<matplotlib.axes._subplots.AxesSubplot at 0x7f29e85af150>"
            ]
          },
          "metadata": {},
          "execution_count": 251
        },
        {
          "output_type": "display_data",
          "data": {
            "image/png": "[encoded data removed]",
            "text/plain": [
              "<Figure size 1080x504 with 1 Axes>"
            ]
          },
          "metadata": {
            "needs_background": "light"
          }
        }
      ]
    },
    {
      "cell_type": "markdown",
      "metadata": {
        "id": "OLnqTUqrqaCk"
      },
      "source": [
        "Conclusion: From above plot we can see that people from age 24 to 36 uses more credit card. Above 60 years of age people rarely use credit card."
      ]
    },
    {
      "cell_type": "code",
      "metadata": {
        "colab": {
          "base_uri": "https://localhost:8080/",
          "height": 515
        },
        "id": "3PaR5BIyqHBV",
        "outputId": "5f90b29a-1479-4b94-db25-ef4ab036e716"
      },
      "source": [
        "# Plot to check the data distribution\n",
        "plt.figure(figsize=(10,8))\n",
        "sns.boxplot(x = 'default_payment_next_month', y = 'AGE', data = credit_data_df)"
      ],
      "execution_count": 252,
      "outputs": [
        {
          "output_type": "execute_result",
          "data": {
            "text/plain": [
              "<matplotlib.axes._subplots.AxesSubplot at 0x7f29e89a2a50>"
            ]
          },
          "metadata": {},
          "execution_count": 252
        },
        {
          "output_type": "display_data",
          "data": {
            "image/png": "[encoded data removed]",
            "text/plain": [
              "<Figure size 720x576 with 1 Axes>"
            ]
          },
          "metadata": {
            "needs_background": "light"
          }
        }
      ]
    },
    {
      "cell_type": "markdown",
      "metadata": {
        "id": "ya-Qk2Ujrw8L"
      },
      "source": [
        "# **Education**"
      ]
    },
    {
      "cell_type": "markdown",
      "metadata": {
        "id": "DrLqmipjr71s"
      },
      "source": [
        "1 = graduate school; 2 = university; 3 = high school; 0 = others"
      ]
    },
    {
      "cell_type": "code",
      "metadata": {
        "colab": {
          "base_uri": "https://localhost:8080/"
        },
        "id": "z7VQ-Lx7rgPG",
        "outputId": "ebdb4981-644d-4a48-8595-04206512995f"
      },
      "source": [
        "# Count the education variable in dataset\n",
        "credit_data_df['EDUCATION'].value_counts()"
      ],
      "execution_count": 253,
      "outputs": [
        {
          "output_type": "execute_result",
          "data": {
            "text/plain": [
              "university         14030\n",
              "graduate school    10585\n",
              "high school         4917\n",
              "5                    280\n",
              "others               137\n",
              "6                     51\n",
              "Name: EDUCATION, dtype: int64"
            ]
          },
          "metadata": {},
          "execution_count": 253
        }
      ]
    },
    {
      "cell_type": "code",
      "metadata": {
        "colab": {
          "base_uri": "https://localhost:8080/"
        },
        "id": "NPWTXtSYsT7E",
        "outputId": "35d195c7-0d94-4f2e-cf91-faba144796b1"
      },
      "source": [
        "# Now combine 0,4,5 and 6 to 0 which is 'others' category\n",
        "credit_data_df['EDUCATION'] = credit_data_df['EDUCATION'].replace({4:0,5:0,6:0})\n",
        "credit_data_df['EDUCATION'].value_counts()"
      ],
      "execution_count": 254,
      "outputs": [
        {
          "output_type": "execute_result",
          "data": {
            "text/plain": [
              "university         14030\n",
              "graduate school    10585\n",
              "high school         4917\n",
              "0                    331\n",
              "others               137\n",
              "Name: EDUCATION, dtype: int64"
            ]
          },
          "metadata": {},
          "execution_count": 254
        }
      ]
    },
    {
      "cell_type": "code",
      "metadata": {
        "colab": {
          "base_uri": "https://localhost:8080/",
          "height": 459
        },
        "id": "ioN_ENCGtMed",
        "outputId": "d3efd68a-8949-43dc-c387-d0b5cd568f31"
      },
      "source": [
        "# Plotting the count plot\n",
        "plt.figure(figsize=(10,7))\n",
        "sns.countplot(x = 'EDUCATION', data = credit_data_df)"
      ],
      "execution_count": 255,
      "outputs": [
        {
          "output_type": "execute_result",
          "data": {
            "text/plain": [
              "<matplotlib.axes._subplots.AxesSubplot at 0x7f29e6f3fb10>"
            ]
          },
          "metadata": {},
          "execution_count": 255
        },
        {
          "output_type": "display_data",
          "data": {
            "image/png": "[encoded data removed]",
            "text/plain": [
              "<Figure size 720x504 with 1 Axes>"
            ]
          },
          "metadata": {
            "needs_background": "light"
          }
        }
      ]
    },
    {
      "cell_type": "markdown",
      "metadata": {
        "id": "AKs8ZWpKtsMl"
      },
      "source": [
        "Conclusion: We can conclude by above plot that most number of credit card holders are university students."
      ]
    },
    {
      "cell_type": "markdown",
      "metadata": {
        "id": "9tSUtprxuCp2"
      },
      "source": [
        "# **Marriage**"
      ]
    },
    {
      "cell_type": "code",
      "metadata": {
        "colab": {
          "base_uri": "https://localhost:8080/"
        },
        "id": "B5MfvggMtlFb",
        "outputId": "d44fe217-8939-4f0e-cf0e-18d49efa0683"
      },
      "source": [
        "# Count the variables of marriage\n",
        "credit_data_df['MARRIAGE'].value_counts()"
      ],
      "execution_count": 256,
      "outputs": [
        {
          "output_type": "execute_result",
          "data": {
            "text/plain": [
              "single     15964\n",
              "married    13659\n",
              "others       323\n",
              "0             54\n",
              "Name: MARRIAGE, dtype: int64"
            ]
          },
          "metadata": {},
          "execution_count": 256
        }
      ]
    },
    {
      "cell_type": "markdown",
      "metadata": {
        "id": "NkdsJLOAuhAD"
      },
      "source": [
        "\n",
        "*   1 = married\n",
        "*   2 = single\n",
        "*   3 = others\n",
        "*   But also there are 54 counts in 0, so we will combine 0 and 3 in other category.\n",
        "\n",
        "\n",
        "\n"
      ]
    },
    {
      "cell_type": "code",
      "metadata": {
        "colab": {
          "base_uri": "https://localhost:8080/"
        },
        "id": "YfyJyIqYubi6",
        "outputId": "213edf63-c5cb-4fdd-cdd8-a6439214f1bf"
      },
      "source": [
        "# Combine 0 and 3\n",
        "credit_data_df['MARRIAGE'] = credit_data_df['MARRIAGE'].replace({0:3})\n",
        "credit_data_df['MARRIAGE'].value_counts()"
      ],
      "execution_count": 257,
      "outputs": [
        {
          "output_type": "execute_result",
          "data": {
            "text/plain": [
              "single     15964\n",
              "married    13659\n",
              "others       323\n",
              "3             54\n",
              "Name: MARRIAGE, dtype: int64"
            ]
          },
          "metadata": {},
          "execution_count": 257
        }
      ]
    },
    {
      "cell_type": "code",
      "metadata": {
        "colab": {
          "base_uri": "https://localhost:8080/",
          "height": 351
        },
        "id": "M1BtnZmNvaLt",
        "outputId": "bf644148-9d69-4b81-bb7e-9e34f35a1e5f"
      },
      "source": [
        "# Plot to view data distribution\n",
        "plt.figure(figsize=(10,5))\n",
        "sns.countplot(x = 'MARRIAGE', data = credit_data_df)"
      ],
      "execution_count": 258,
      "outputs": [
        {
          "output_type": "execute_result",
          "data": {
            "text/plain": [
              "<matplotlib.axes._subplots.AxesSubplot at 0x7f29e6166d10>"
            ]
          },
          "metadata": {},
          "execution_count": 258
        },
        {
          "output_type": "display_data",
          "data": {
            "image/png": "[encoded data removed]",
            "text/plain": [
              "<Figure size 720x360 with 1 Axes>"
            ]
          },
          "metadata": {
            "needs_background": "light"
          }
        }
      ]
    },
    {
      "cell_type": "markdown",
      "metadata": {
        "id": "W9kgD9lLv4Mk"
      },
      "source": [
        "Conclusion: From above plot we can see that most number of credit card are hold by people whose status is single."
      ]
    },
    {
      "cell_type": "markdown",
      "metadata": {
        "id": "07MlIC_kwQUQ"
      },
      "source": [
        "# **Sex**"
      ]
    },
    {
      "cell_type": "markdown",
      "metadata": {
        "id": "CV6oxwltwT6-"
      },
      "source": [
        "\n",
        "\n",
        "*   1: Male\n",
        "*   2: Female\n",
        "\n"
      ]
    },
    {
      "cell_type": "code",
      "metadata": {
        "colab": {
          "base_uri": "https://localhost:8080/"
        },
        "id": "_izme4VvvzdJ",
        "outputId": "dcbdd0a7-8b99-49f1-819b-077aabbede5f"
      },
      "source": [
        "# Count of variables in dataset.\n",
        "credit_data_df['SEX'].value_counts()"
      ],
      "execution_count": 259,
      "outputs": [
        {
          "output_type": "execute_result",
          "data": {
            "text/plain": [
              "female    18112\n",
              "male      11888\n",
              "Name: SEX, dtype: int64"
            ]
          },
          "metadata": {},
          "execution_count": 259
        }
      ]
    },
    {
      "cell_type": "code",
      "metadata": {
        "colab": {
          "base_uri": "https://localhost:8080/",
          "height": 459
        },
        "id": "TlKzQ-HPwpdy",
        "outputId": "f2a3e1fb-73f8-473a-94ab-c05f26709246"
      },
      "source": [
        "# Plot the graph\n",
        "plt.figure(figsize=(10,7))\n",
        "sns.countplot(x = 'SEX', data = credit_data_df)"
      ],
      "execution_count": 260,
      "outputs": [
        {
          "output_type": "execute_result",
          "data": {
            "text/plain": [
              "<matplotlib.axes._subplots.AxesSubplot at 0x7f29e37ee490>"
            ]
          },
          "metadata": {},
          "execution_count": 260
        },
        {
          "output_type": "display_data",
          "data": {
            "image/png": "[encoded data removed]",
            "text/plain": [
              "<Figure size 720x504 with 1 Axes>"
            ]
          },
          "metadata": {
            "needs_background": "light"
          }
        }
      ]
    },
    {
      "cell_type": "markdown",
      "metadata": {
        "id": "Em21D5RDxLf0"
      },
      "source": [
        "Conclusion: From above plot we can conclude that number of female credit card holder are more than male."
      ]
    },
    {
      "cell_type": "markdown",
      "metadata": {
        "id": "SQHujPLHxmm-"
      },
      "source": [
        "# **Numerical Features**"
      ]
    },
    {
      "cell_type": "markdown",
      "metadata": {
        "id": "a1LcTW37xwfr"
      },
      "source": [
        "Limit Balance"
      ]
    },
    {
      "cell_type": "code",
      "metadata": {
        "colab": {
          "base_uri": "https://localhost:8080/"
        },
        "id": "eUeSZQ_3w5Bb",
        "outputId": "1563908b-a639-4cb6-84b2-b3d3410e3cc7"
      },
      "source": [
        "# Limit balance description\n",
        "credit_data_df['LIMIT_BAL'].describe()"
      ],
      "execution_count": 263,
      "outputs": [
        {
          "output_type": "execute_result",
          "data": {
            "text/plain": [
              "count      30000.000000\n",
              "mean      167484.322667\n",
              "std       129747.661567\n",
              "min        10000.000000\n",
              "25%        50000.000000\n",
              "50%       140000.000000\n",
              "75%       240000.000000\n",
              "max      1000000.000000\n",
              "Name: LIMIT_BAL, dtype: float64"
            ]
          },
          "metadata": {},
          "execution_count": 263
        }
      ]
    },
    {
      "cell_type": "code",
      "metadata": {
        "colab": {
          "base_uri": "https://localhost:8080/",
          "height": 672
        },
        "id": "k3XfX8dDx_jr",
        "outputId": "17a23e50-bc4c-4711-9ca0-b58339eb2c46"
      },
      "source": [
        "# Plotting distribution plot of Limit Bal.\n",
        "plt.figure(figsize = (10,5))\n",
        "sns.distplot(credit_data_df['LIMIT_BAL'], kde = True)"
      ],
      "execution_count": 264,
      "outputs": [
        {
          "output_type": "error",
          "ename": "TypeError",
          "evalue": "ignored",
          "traceback": [
            "\u001b[0;31m---------------------------------------------------------------------------\u001b[0m",
            "\u001b[0;31mTypeError\u001b[0m                                 Traceback (most recent call last)",
            "\u001b[0;32m<ipython-input-264-93567a02af9e>\u001b[0m in \u001b[0;36m<module>\u001b[0;34m()\u001b[0m\n\u001b[1;32m      1\u001b[0m \u001b[0;31m# Plotting distribution plot of Limit Bal.\u001b[0m\u001b[0;34m\u001b[0m\u001b[0;34m\u001b[0m\u001b[0;34m\u001b[0m\u001b[0m\n\u001b[1;32m      2\u001b[0m \u001b[0mplt\u001b[0m\u001b[0;34m.\u001b[0m\u001b[0mfigure\u001b[0m\u001b[0;34m(\u001b[0m\u001b[0mfigsize\u001b[0m \u001b[0;34m=\u001b[0m \u001b[0;34m(\u001b[0m\u001b[0;36m10\u001b[0m\u001b[0;34m,\u001b[0m\u001b[0;36m5\u001b[0m\u001b[0;34m)\u001b[0m\u001b[0;34m)\u001b[0m\u001b[0;34m\u001b[0m\u001b[0;34m\u001b[0m\u001b[0m\n\u001b[0;32m----> 3\u001b[0;31m \u001b[0msns\u001b[0m\u001b[0;34m.\u001b[0m\u001b[0mdistplot\u001b[0m\u001b[0;34m(\u001b[0m\u001b[0mcredit_data_df\u001b[0m\u001b[0;34m[\u001b[0m\u001b[0;34m'LIMIT_BAL'\u001b[0m\u001b[0;34m]\u001b[0m\u001b[0;34m,\u001b[0m \u001b[0mkde\u001b[0m \u001b[0;34m=\u001b[0m \u001b[0;32mTrue\u001b[0m\u001b[0;34m)\u001b[0m\u001b[0;34m\u001b[0m\u001b[0;34m\u001b[0m\u001b[0m\n\u001b[0m",
            "\u001b[0;32m/usr/local/lib/python3.7/dist-packages/seaborn/distributions.py\u001b[0m in \u001b[0;36mdistplot\u001b[0;34m(a, bins, hist, kde, rug, fit, hist_kws, kde_kws, rug_kws, fit_kws, color, vertical, norm_hist, axlabel, label, ax, x)\u001b[0m\n\u001b[1;32m   2685\u001b[0m     \u001b[0;32mif\u001b[0m \u001b[0mkde\u001b[0m\u001b[0;34m:\u001b[0m\u001b[0;34m\u001b[0m\u001b[0;34m\u001b[0m\u001b[0m\n\u001b[1;32m   2686\u001b[0m         \u001b[0mkde_color\u001b[0m \u001b[0;34m=\u001b[0m \u001b[0mkde_kws\u001b[0m\u001b[0;34m.\u001b[0m\u001b[0mpop\u001b[0m\u001b[0;34m(\u001b[0m\u001b[0;34m\"color\"\u001b[0m\u001b[0;34m,\u001b[0m \u001b[0mcolor\u001b[0m\u001b[0;34m)\u001b[0m\u001b[0;34m\u001b[0m\u001b[0;34m\u001b[0m\u001b[0m\n\u001b[0;32m-> 2687\u001b[0;31m         \u001b[0mkdeplot\u001b[0m\u001b[0;34m(\u001b[0m\u001b[0ma\u001b[0m\u001b[0;34m,\u001b[0m \u001b[0mvertical\u001b[0m\u001b[0;34m=\u001b[0m\u001b[0mvertical\u001b[0m\u001b[0;34m,\u001b[0m \u001b[0max\u001b[0m\u001b[0;34m=\u001b[0m\u001b[0max\u001b[0m\u001b[0;34m,\u001b[0m \u001b[0mcolor\u001b[0m\u001b[0;34m=\u001b[0m\u001b[0mkde_color\u001b[0m\u001b[0;34m,\u001b[0m \u001b[0;34m**\u001b[0m\u001b[0mkde_kws\u001b[0m\u001b[0;34m)\u001b[0m\u001b[0;34m\u001b[0m\u001b[0;34m\u001b[0m\u001b[0m\n\u001b[0m\u001b[1;32m   2688\u001b[0m         \u001b[0;32mif\u001b[0m \u001b[0mkde_color\u001b[0m \u001b[0;34m!=\u001b[0m \u001b[0mcolor\u001b[0m\u001b[0;34m:\u001b[0m\u001b[0;34m\u001b[0m\u001b[0;34m\u001b[0m\u001b[0m\n\u001b[1;32m   2689\u001b[0m             \u001b[0mkde_kws\u001b[0m\u001b[0;34m[\u001b[0m\u001b[0;34m\"color\"\u001b[0m\u001b[0;34m]\u001b[0m \u001b[0;34m=\u001b[0m \u001b[0mkde_color\u001b[0m\u001b[0;34m\u001b[0m\u001b[0;34m\u001b[0m\u001b[0m\n",
            "\u001b[0;32m/usr/local/lib/python3.7/dist-packages/seaborn/_decorators.py\u001b[0m in \u001b[0;36minner_f\u001b[0;34m(*args, **kwargs)\u001b[0m\n\u001b[1;32m     44\u001b[0m             )\n\u001b[1;32m     45\u001b[0m         \u001b[0mkwargs\u001b[0m\u001b[0;34m.\u001b[0m\u001b[0mupdate\u001b[0m\u001b[0;34m(\u001b[0m\u001b[0;34m{\u001b[0m\u001b[0mk\u001b[0m\u001b[0;34m:\u001b[0m \u001b[0marg\u001b[0m \u001b[0;32mfor\u001b[0m \u001b[0mk\u001b[0m\u001b[0;34m,\u001b[0m \u001b[0marg\u001b[0m \u001b[0;32min\u001b[0m \u001b[0mzip\u001b[0m\u001b[0;34m(\u001b[0m\u001b[0msig\u001b[0m\u001b[0;34m.\u001b[0m\u001b[0mparameters\u001b[0m\u001b[0;34m,\u001b[0m \u001b[0margs\u001b[0m\u001b[0;34m)\u001b[0m\u001b[0;34m}\u001b[0m\u001b[0;34m)\u001b[0m\u001b[0;34m\u001b[0m\u001b[0;34m\u001b[0m\u001b[0m\n\u001b[0;32m---> 46\u001b[0;31m         \u001b[0;32mreturn\u001b[0m \u001b[0mf\u001b[0m\u001b[0;34m(\u001b[0m\u001b[0;34m**\u001b[0m\u001b[0mkwargs\u001b[0m\u001b[0;34m)\u001b[0m\u001b[0;34m\u001b[0m\u001b[0;34m\u001b[0m\u001b[0m\n\u001b[0m\u001b[1;32m     47\u001b[0m     \u001b[0;32mreturn\u001b[0m \u001b[0minner_f\u001b[0m\u001b[0;34m\u001b[0m\u001b[0;34m\u001b[0m\u001b[0m\n\u001b[1;32m     48\u001b[0m \u001b[0;34m\u001b[0m\u001b[0m\n",
            "\u001b[0;32m/usr/local/lib/python3.7/dist-packages/seaborn/distributions.py\u001b[0m in \u001b[0;36mkdeplot\u001b[0;34m(x, y, shade, vertical, kernel, bw, gridsize, cut, clip, legend, cumulative, shade_lowest, cbar, cbar_ax, cbar_kws, ax, weights, hue, palette, hue_order, hue_norm, multiple, common_norm, common_grid, levels, thresh, bw_method, bw_adjust, log_scale, color, fill, data, data2, warn_singular, **kwargs)\u001b[0m\n\u001b[1;32m   1738\u001b[0m     p = _DistributionPlotter(\n\u001b[1;32m   1739\u001b[0m         \u001b[0mdata\u001b[0m\u001b[0;34m=\u001b[0m\u001b[0mdata\u001b[0m\u001b[0;34m,\u001b[0m\u001b[0;34m\u001b[0m\u001b[0;34m\u001b[0m\u001b[0m\n\u001b[0;32m-> 1740\u001b[0;31m         \u001b[0mvariables\u001b[0m\u001b[0;34m=\u001b[0m\u001b[0m_DistributionPlotter\u001b[0m\u001b[0;34m.\u001b[0m\u001b[0mget_semantics\u001b[0m\u001b[0;34m(\u001b[0m\u001b[0mlocals\u001b[0m\u001b[0;34m(\u001b[0m\u001b[0;34m)\u001b[0m\u001b[0;34m)\u001b[0m\u001b[0;34m,\u001b[0m\u001b[0;34m\u001b[0m\u001b[0;34m\u001b[0m\u001b[0m\n\u001b[0m\u001b[1;32m   1741\u001b[0m     )\n\u001b[1;32m   1742\u001b[0m \u001b[0;34m\u001b[0m\u001b[0m\n",
            "\u001b[0;32m/usr/local/lib/python3.7/dist-packages/seaborn/distributions.py\u001b[0m in \u001b[0;36m__init__\u001b[0;34m(self, data, variables)\u001b[0m\n\u001b[1;32m    109\u001b[0m     ):\n\u001b[1;32m    110\u001b[0m \u001b[0;34m\u001b[0m\u001b[0m\n\u001b[0;32m--> 111\u001b[0;31m         \u001b[0msuper\u001b[0m\u001b[0;34m(\u001b[0m\u001b[0;34m)\u001b[0m\u001b[0;34m.\u001b[0m\u001b[0m__init__\u001b[0m\u001b[0;34m(\u001b[0m\u001b[0mdata\u001b[0m\u001b[0;34m=\u001b[0m\u001b[0mdata\u001b[0m\u001b[0;34m,\u001b[0m \u001b[0mvariables\u001b[0m\u001b[0;34m=\u001b[0m\u001b[0mvariables\u001b[0m\u001b[0;34m)\u001b[0m\u001b[0;34m\u001b[0m\u001b[0;34m\u001b[0m\u001b[0m\n\u001b[0m\u001b[1;32m    112\u001b[0m \u001b[0;34m\u001b[0m\u001b[0m\n\u001b[1;32m    113\u001b[0m     \u001b[0;34m@\u001b[0m\u001b[0mproperty\u001b[0m\u001b[0;34m\u001b[0m\u001b[0;34m\u001b[0m\u001b[0m\n",
            "\u001b[0;32m/usr/local/lib/python3.7/dist-packages/seaborn/_core.py\u001b[0m in \u001b[0;36m__init__\u001b[0;34m(self, data, variables)\u001b[0m\n\u001b[1;32m    603\u001b[0m     \u001b[0;32mdef\u001b[0m \u001b[0m__init__\u001b[0m\u001b[0;34m(\u001b[0m\u001b[0mself\u001b[0m\u001b[0;34m,\u001b[0m \u001b[0mdata\u001b[0m\u001b[0;34m=\u001b[0m\u001b[0;32mNone\u001b[0m\u001b[0;34m,\u001b[0m \u001b[0mvariables\u001b[0m\u001b[0;34m=\u001b[0m\u001b[0;34m{\u001b[0m\u001b[0;34m}\u001b[0m\u001b[0;34m)\u001b[0m\u001b[0;34m:\u001b[0m\u001b[0;34m\u001b[0m\u001b[0;34m\u001b[0m\u001b[0m\n\u001b[1;32m    604\u001b[0m \u001b[0;34m\u001b[0m\u001b[0m\n\u001b[0;32m--> 605\u001b[0;31m         \u001b[0mself\u001b[0m\u001b[0;34m.\u001b[0m\u001b[0massign_variables\u001b[0m\u001b[0;34m(\u001b[0m\u001b[0mdata\u001b[0m\u001b[0;34m,\u001b[0m \u001b[0mvariables\u001b[0m\u001b[0;34m)\u001b[0m\u001b[0;34m\u001b[0m\u001b[0;34m\u001b[0m\u001b[0m\n\u001b[0m\u001b[1;32m    606\u001b[0m \u001b[0;34m\u001b[0m\u001b[0m\n\u001b[1;32m    607\u001b[0m         \u001b[0;32mfor\u001b[0m \u001b[0mvar\u001b[0m\u001b[0;34m,\u001b[0m \u001b[0mcls\u001b[0m \u001b[0;32min\u001b[0m \u001b[0mself\u001b[0m\u001b[0;34m.\u001b[0m\u001b[0m_semantic_mappings\u001b[0m\u001b[0;34m.\u001b[0m\u001b[0mitems\u001b[0m\u001b[0;34m(\u001b[0m\u001b[0;34m)\u001b[0m\u001b[0;34m:\u001b[0m\u001b[0;34m\u001b[0m\u001b[0;34m\u001b[0m\u001b[0m\n",
            "\u001b[0;32m/usr/local/lib/python3.7/dist-packages/seaborn/_core.py\u001b[0m in \u001b[0;36massign_variables\u001b[0;34m(self, data, variables)\u001b[0m\n\u001b[1;32m    667\u001b[0m             \u001b[0mself\u001b[0m\u001b[0;34m.\u001b[0m\u001b[0minput_format\u001b[0m \u001b[0;34m=\u001b[0m \u001b[0;34m\"long\"\u001b[0m\u001b[0;34m\u001b[0m\u001b[0;34m\u001b[0m\u001b[0m\n\u001b[1;32m    668\u001b[0m             plot_data, variables = self._assign_variables_longform(\n\u001b[0;32m--> 669\u001b[0;31m                 \u001b[0mdata\u001b[0m\u001b[0;34m,\u001b[0m \u001b[0;34m**\u001b[0m\u001b[0mvariables\u001b[0m\u001b[0;34m,\u001b[0m\u001b[0;34m\u001b[0m\u001b[0;34m\u001b[0m\u001b[0m\n\u001b[0m\u001b[1;32m    670\u001b[0m             )\n\u001b[1;32m    671\u001b[0m \u001b[0;34m\u001b[0m\u001b[0m\n",
            "\u001b[0;32m/usr/local/lib/python3.7/dist-packages/seaborn/_core.py\u001b[0m in \u001b[0;36m_assign_variables_longform\u001b[0;34m(self, data, **kwargs)\u001b[0m\n\u001b[1;32m    908\u001b[0m \u001b[0;34m\u001b[0m\u001b[0m\n\u001b[1;32m    909\u001b[0m                 \u001b[0;31m# Raise when data object is present and a vector can't matched\u001b[0m\u001b[0;34m\u001b[0m\u001b[0;34m\u001b[0m\u001b[0;34m\u001b[0m\u001b[0m\n\u001b[0;32m--> 910\u001b[0;31m                 \u001b[0;32mif\u001b[0m \u001b[0misinstance\u001b[0m\u001b[0;34m(\u001b[0m\u001b[0mdata\u001b[0m\u001b[0;34m,\u001b[0m \u001b[0mpd\u001b[0m\u001b[0;34m.\u001b[0m\u001b[0mDataFrame\u001b[0m\u001b[0;34m)\u001b[0m \u001b[0;32mand\u001b[0m \u001b[0;32mnot\u001b[0m \u001b[0misinstance\u001b[0m\u001b[0;34m(\u001b[0m\u001b[0mval\u001b[0m\u001b[0;34m,\u001b[0m \u001b[0mpd\u001b[0m\u001b[0;34m.\u001b[0m\u001b[0mSeries\u001b[0m\u001b[0;34m)\u001b[0m\u001b[0;34m:\u001b[0m\u001b[0;34m\u001b[0m\u001b[0;34m\u001b[0m\u001b[0m\n\u001b[0m\u001b[1;32m    911\u001b[0m                     \u001b[0;32mif\u001b[0m \u001b[0mnp\u001b[0m\u001b[0;34m.\u001b[0m\u001b[0mndim\u001b[0m\u001b[0;34m(\u001b[0m\u001b[0mval\u001b[0m\u001b[0;34m)\u001b[0m \u001b[0;32mand\u001b[0m \u001b[0mlen\u001b[0m\u001b[0;34m(\u001b[0m\u001b[0mdata\u001b[0m\u001b[0;34m)\u001b[0m \u001b[0;34m!=\u001b[0m \u001b[0mlen\u001b[0m\u001b[0;34m(\u001b[0m\u001b[0mval\u001b[0m\u001b[0;34m)\u001b[0m\u001b[0;34m:\u001b[0m\u001b[0;34m\u001b[0m\u001b[0;34m\u001b[0m\u001b[0m\n\u001b[1;32m    912\u001b[0m                         \u001b[0mval_cls\u001b[0m \u001b[0;34m=\u001b[0m \u001b[0mval\u001b[0m\u001b[0;34m.\u001b[0m\u001b[0m__class__\u001b[0m\u001b[0;34m.\u001b[0m\u001b[0m__name__\u001b[0m\u001b[0;34m\u001b[0m\u001b[0;34m\u001b[0m\u001b[0m\n",
            "\u001b[0;31mTypeError\u001b[0m: isinstance() arg 2 must be a type or tuple of types"
          ]
        },
        {
          "output_type": "display_data",
          "data": {
            "image/png": "[encoded data removed]",
            "text/plain": [
              "<Figure size 720x360 with 1 Axes>"
            ]
          },
          "metadata": {
            "needs_background": "light"
          }
        }
      ]
    },
    {
      "cell_type": "markdown",
      "metadata": {
        "id": "MJHYyKoLypAy"
      },
      "source": [
        "Conclusion: Maximum amount of given credit in NT dollars is 50,000 followed by 30,000 and 20,000"
      ]
    },
    {
      "cell_type": "code",
      "metadata": {
        "id": "amLsCuVEyV1N"
      },
      "source": [
        "# View the data distribution with respect to target variable\n",
        "sns.barplot(x = 'default_payment_next_month', y = 'LIMIT_BAL', data = credit_data_df)"
      ],
      "execution_count": null,
      "outputs": []
    },
    {
      "cell_type": "code",
      "metadata": {
        "id": "0ztvG090zHvv"
      },
      "source": [
        "# Rename the column for smooth process\n",
        "credit_data_df.rename(columns={'PAY_0':'PAY_SEP','PAY_2':'PAY_AUG','PAY_3':'PAY_JULY','PAY_4':'PAY_JUNE','PAY_5':'PAY_MAY','PAY_6':'PAY_APR'},inplace = True)\n",
        "credit_data_df.rename(columns={'BILL_AMT1':'BILL_SEP','BILL_AMT2':'BILL_AUG','BILL_AMT3':'BILL_JULY','BILL_AMT4':'BILL_JUNE',\n",
        "                               'BILL_AMT5':'BILL_MAY','BILL_AMT6':'BILL_APR'},inplace = True)\n",
        "credit_data_df.rename(columns={'PAY_AMT1':'PAY_AMT_SEP','PAY_AMT2':'PAY_AMT_AUG','PAY_AMT3':'PAY_AMT_JULY','PAY_AMT4':'PAY_AMT_JUNE',\n",
        "                               'PAY_AMT5':'PAY_AMT_MAY','PAY_AMT6':'PAY_AMT_APR'}, inplace = True)"
      ],
      "execution_count": null,
      "outputs": []
    },
    {
      "cell_type": "code",
      "metadata": {
        "id": "7SnMTCdk3rZk"
      },
      "source": [
        "# check the information summary of dataset after renaming the column\n",
        "credit_data_df.info()"
      ],
      "execution_count": null,
      "outputs": []
    },
    {
      "cell_type": "markdown",
      "metadata": {
        "id": "rQVtAc6A5B4U"
      },
      "source": [
        "Total Bill Amount\n",
        "\n",
        "\n",
        "*   Pair plot: This function will create a grid of Axes such that each numeric variable in data will by shared across the y-axes across a single row and the x-axes across a single column.\n",
        "\n"
      ]
    },
    {
      "cell_type": "code",
      "metadata": {
        "id": "VGlUZV654WWF"
      },
      "source": [
        "# Create a single variable for the bill amount and plot the pairplot \n",
        "total_bill_amt = credit_data_df[['BILL_SEP','BILL_AUG','BILL_JULY','BILL_JUNE','BILL_MAY','BILL_APR']]\n",
        "sns.pairplot(data = total_bill_amt)"
      ],
      "execution_count": null,
      "outputs": []
    },
    {
      "cell_type": "markdown",
      "metadata": {
        "id": "ckdSvett93U7"
      },
      "source": [
        "Previous Amount"
      ]
    },
    {
      "cell_type": "code",
      "metadata": {
        "id": "6u_IADBU7hJH"
      },
      "source": [
        "#plotting the count plot for Previous payment\n",
        "previous_payment = ['PAY_SEP','PAY_AUG','PAY_JULY','PAY_JUNE','PAY_MAY','PAY_APR']\n",
        "for col in previous_payment:\n",
        "  plt.figure(figsize=(10,5))\n",
        "  sns.countplot(x = col, hue = 'default_payment_next_month', data = credit_data_df)"
      ],
      "execution_count": null,
      "outputs": []
    },
    {
      "cell_type": "markdown",
      "metadata": {
        "id": "Sq9irgt897HD"
      },
      "source": [
        "Paid Amount"
      ]
    },
    {
      "cell_type": "code",
      "metadata": {
        "id": "fd0ANyQb8DfP"
      },
      "source": [
        "# Create a single variable and plot pairplot\n",
        "paid_amt = credit_data_df[['PAY_AMT_SEP','PAY_AMT_AUG','PAY_AMT_JULY','PAY_AMT_JUNE','PAY_AMT_MAY','PAY_AMT_APR','default_payment_next_month']]\n",
        "sns.pairplot(data = paid_amt, hue = 'default_payment_next_month')"
      ],
      "execution_count": null,
      "outputs": []
    },
    {
      "cell_type": "markdown",
      "metadata": {
        "id": "FR-hp3hm_pcd"
      },
      "source": [
        "**Bivariate Analysis:** It is one of the most simplest forms of analysis. It involves the analysis of two variable, for the purpose of determining the empirical relationship between them, also it can be helpful inn testing simple  hypothesis of association."
      ]
    },
    {
      "cell_type": "code",
      "metadata": {
        "id": "JIsqS4snameO"
      },
      "source": [
        "# Plot to visualize the data distribution between gender and default payment\n",
        "x,y = 'SEX', 'default_payment_next_month'\n",
        "(credit_data_df.groupby(x)[y].value_counts(normalize= True).mul(100).rename('percent').reset_index().pipe((sns.catplot,'data'), x=x, y='percent',hue = y,kind='bar'))"
      ],
      "execution_count": null,
      "outputs": []
    },
    {
      "cell_type": "markdown",
      "metadata": {
        "id": "b-qcLhguL5SE"
      },
      "source": [
        "Conclusion: Males have more default payment as compared to females."
      ]
    },
    {
      "cell_type": "code",
      "metadata": {
        "id": "HWWuZBJTKxSu"
      },
      "source": [
        "# Plot to visualize the data distribution between marriage and default payment\n",
        "x,y = 'MARRIAGE', 'default_payment_next_month'\n",
        "(credit_data_df.groupby(x)[y].value_counts(normalize= True).mul(100).rename('percent').reset_index().pipe((sns.catplot,'data'), x=x, y='percent',hue = y,kind='bar'))"
      ],
      "execution_count": null,
      "outputs": []
    },
    {
      "cell_type": "markdown",
      "metadata": {
        "id": "cipF_64eSQJf"
      },
      "source": [
        "Conclusion: Default payment in others category are more as compared to married and single."
      ]
    },
    {
      "cell_type": "code",
      "metadata": {
        "id": "xwyEGk7SMoEp"
      },
      "source": [
        "# Plot to visualize the data distribution between education and default payment\n",
        "x,y = 'EDUCATION', 'default_payment_next_month'\n",
        "(credit_data_df.groupby(x)[y].value_counts(normalize= True).mul(100).rename('percent').reset_index().pipe((sns.catplot,'data'), x=x, y='percent',hue = y,kind='bar'))"
      ],
      "execution_count": null,
      "outputs": []
    },
    {
      "cell_type": "markdown",
      "metadata": {
        "id": "AnH1DW0qWPFq"
      },
      "source": [
        "Conclusion: From above plot we can see that high schools people has more default payment than others."
      ]
    },
    {
      "cell_type": "markdown",
      "metadata": {
        "id": "MpZlX3OBYTmE"
      },
      "source": [
        "# **Correlation Matrix**"
      ]
    },
    {
      "cell_type": "code",
      "metadata": {
        "id": "7GXS3-okhzaj"
      },
      "source": [
        "# Create a dataframe copy\n",
        "credit_data_df_copy = credit_data_df.copy()"
      ],
      "execution_count": null,
      "outputs": []
    },
    {
      "cell_type": "code",
      "metadata": {
        "id": "YOVC3uN006-6"
      },
      "source": [
        "#credit_data_df.replace({'default_payment_next_month': {'no' : 0, 'yes' : 1}},inplace = True)"
      ],
      "execution_count": null,
      "outputs": []
    },
    {
      "cell_type": "code",
      "metadata": {
        "id": "teWYl5EqhzEO"
      },
      "source": [
        "credit_data_df_copy = credit_data_df_copy.replace({'SEX': {'male' : 1, 'female' : 2}, 'EDUCATION' : {'graduate school' : 1, 'university' : 2, 'high school' : 3, 'others' : 4,'others':0},\n",
        "                        'MARRIAGE' :{'married' : 1 , 'single': 2, 'others': 3},'default_payment_next_month':{'no' : 0, 'yes' : 1}})"
      ],
      "execution_count": null,
      "outputs": []
    },
    {
      "cell_type": "code",
      "metadata": {
        "id": "77TY7TZgYFH1"
      },
      "source": [
        "# Heatmap plot for correlation between different variable\n",
        "plt.figure(figsize=(20,8))\n",
        "correlation = credit_data_df_copy.corr()\n",
        "mask = np.triu(np.ones_like(credit_data_df_copy.corr()))\n",
        "sns.heatmap((correlation),mask=mask,annot=True,cmap='coolwarm')"
      ],
      "execution_count": null,
      "outputs": []
    },
    {
      "cell_type": "markdown",
      "metadata": {
        "id": "8iiLmI64o7he"
      },
      "source": [
        "Conclusion: we can see in above plot that some variable like age are negatively correlated. We can ignore ID as it will not effect the result."
      ]
    },
    {
      "cell_type": "markdown",
      "metadata": {
        "id": "Dmkp0blWsQte"
      },
      "source": [
        "# SMOTE(Synthetic Minority Oversampling Technique): \n",
        "\n",
        "*  Oversampling is one of the most commonly used oversampling methods to solve the imbalance problem. It aims to balance class distribution by randomly increasing minority class examples by replicating them.\n",
        "\n",
        "*   In our dataset we have high imbalanced data distribution in target variable, this happens generally when observation in one of the class are much higher.\n",
        "*   As machine learning algorithm tends to increase accuracy by reducing error so they do not consider class distribution.\n",
        "*   ML techniques such as Decision Trees and Logistic Regression is biased towards majority class and tend to ignore minority class."
      ]
    },
    {
      "cell_type": "code",
      "metadata": {
        "id": "mGRXoDyViruZ"
      },
      "source": [
        "# Apply smote to balance the dataset\n",
        "smote = SMOTE()"
      ],
      "execution_count": null,
      "outputs": []
    },
    {
      "cell_type": "code",
      "metadata": {
        "id": "EohSgG6vv1Dk"
      },
      "source": [
        "# Fit the target and predictor variable\n",
        "x_smote,y_smote = smote.fit_resample(credit_data_df_copy.iloc[:,0:-1],credit_data_df_copy['default_payment_next_month'])\n",
        "print('Original dataset observation',len(credit_data_df_copy))\n",
        "print('Resampled dataset observation',len(y_smote))"
      ],
      "execution_count": null,
      "outputs": []
    },
    {
      "cell_type": "code",
      "metadata": {
        "id": "HXYkPD6XyQaw"
      },
      "source": [
        "columns = list(credit_data_df_copy.columns)\n",
        "columns.pop()"
      ],
      "execution_count": null,
      "outputs": []
    },
    {
      "cell_type": "code",
      "metadata": {
        "id": "ZAaYtgWvykIx"
      },
      "source": [
        "# Create a variable name for balanced dataframe\n",
        "balanced_credit_data_df = pd.DataFrame(x_smote, columns=columns)\n",
        "balanced_credit_data_df['default_payment_next_month'] = y_smote"
      ],
      "execution_count": null,
      "outputs": []
    },
    {
      "cell_type": "code",
      "metadata": {
        "id": "c1-mNE4Czcnf"
      },
      "source": [
        "# Count plot after applying smote\n",
        "sns.countplot('default_payment_next_month', data = balanced_credit_data_df)"
      ],
      "execution_count": null,
      "outputs": []
    },
    {
      "cell_type": "code",
      "metadata": {
        "id": "Hdw7kQ2UzsqV"
      },
      "source": [
        "balanced_credit_data_df[balanced_credit_data_df['default_payment_next_month']==1]"
      ],
      "execution_count": null,
      "outputs": []
    },
    {
      "cell_type": "markdown",
      "metadata": {
        "id": "AVntbE_x41vw"
      },
      "source": [
        "# Feature Engineering"
      ]
    },
    {
      "cell_type": "code",
      "metadata": {
        "id": "84iWlsOS0W3G"
      },
      "source": [
        "# create a variable and copy the balanced dataset\n",
        "credit_df_copy = balanced_credit_data_df.copy()"
      ],
      "execution_count": null,
      "outputs": []
    },
    {
      "cell_type": "code",
      "metadata": {
        "id": "ACZdEKQR6WQm"
      },
      "source": [
        "# Assign the sum of payment value in one\n",
        "credit_df_copy['total_pay_value'] = credit_df_copy['PAY_SEP']+credit_df_copy['PAY_AUG']+credit_df_copy['PAY_JULY']+credit_df_copy['PAY_JUNE']+credit_df_copy['PAY_MAY']+credit_df_copy['PAY_APR']\n",
        "credit_df_copy['total_pay_value']"
      ],
      "execution_count": null,
      "outputs": []
    },
    {
      "cell_type": "code",
      "metadata": {
        "id": "hrToYFQG7PUZ"
      },
      "source": [
        "# Check the correlation using mean\n",
        "credit_df_copy.groupby('default_payment_next_month')['total_pay_value'].mean()"
      ],
      "execution_count": null,
      "outputs": []
    },
    {
      "cell_type": "code",
      "metadata": {
        "id": "6Cu9ARev7m-I"
      },
      "source": [
        "# View box plot\n",
        "plt.figure(figsize=(10,7))\n",
        "sns.boxplot(data = credit_df_copy, x = 'default_payment_next_month', y = 'total_pay_value')"
      ],
      "execution_count": null,
      "outputs": []
    },
    {
      "cell_type": "code",
      "metadata": {
        "id": "0ElEb-P78G3-"
      },
      "source": [
        "# Create a column of amount due by summing total bill amount and subtracting it from total amount paid\n",
        "credit_df_copy['amt_due'] = (credit_df_copy['BILL_SEP']+credit_df_copy['BILL_AUG']+credit_df_copy['BILL_JULY']+credit_df_copy['BILL_JUNE']+credit_df_copy['BILL_MAY']+credit_df_copy['BILL_APR']) - (credit_df_copy['total_pay_value'])"
      ],
      "execution_count": null,
      "outputs": []
    },
    {
      "cell_type": "code",
      "metadata": {
        "id": "J_OvR6sn-GEo"
      },
      "source": [
        "# Check the correlation by calculating the mean\n",
        "credit_df_copy.groupby('default_payment_next_month')['amt_due'].mean()"
      ],
      "execution_count": null,
      "outputs": []
    },
    {
      "cell_type": "code",
      "metadata": {
        "id": "ni77UA88-UJx"
      },
      "source": [
        "#  Change the features observation to categorical\n",
        "credit_df_copy.replace({'SEX': {1 : 'male', 2 : 'female'}, 'EDUCATION' : {1 : 'graduate school', 2 : 'university', 3 : 'high school', 4 : 'others',0:'others'},\n",
        "                        'MARRIAGE' :{1 : 'married' , 2: 'single', 3: 'others'}},inplace = True)"
      ],
      "execution_count": null,
      "outputs": []
    },
    {
      "cell_type": "code",
      "metadata": {
        "id": "fAcD45Mo_3AZ"
      },
      "source": [
        "# Final dataset\n",
        "credit_df_copy.head()"
      ],
      "execution_count": null,
      "outputs": []
    },
    {
      "cell_type": "markdown",
      "metadata": {
        "id": "rrtjlt91Ejox"
      },
      "source": [
        "# One Hot Encoding\n",
        "\n",
        "*   In this method we convert each categorical value into a new categorical column and assign a binary value 0 or 1."
      ]
    },
    {
      "cell_type": "code",
      "metadata": {
        "id": "sqq-xv06Ggab"
      },
      "source": [
        "# Apply one hot encoding\n",
        "credit_df_copy = pd.get_dummies(credit_df_copy, columns=[\"MARRIAGE\", \"EDUCATION\"])"
      ],
      "execution_count": null,
      "outputs": []
    },
    {
      "cell_type": "code",
      "metadata": {
        "id": "eYfA31XcHmHa"
      },
      "source": [
        "# Apply one hot encoding\n",
        "credit_df_copy = pd.get_dummies(credit_df_copy, columns=['PAY_SEP','PAY_AUG','PAY_JULY','PAY_JUNE','PAY_MAY','PAY_APR'], drop_first=True)"
      ],
      "execution_count": null,
      "outputs": []
    },
    {
      "cell_type": "code",
      "metadata": {
        "id": "Sp3O1WmMKSST"
      },
      "source": [
        "#Apply label encoding on sex column\n",
        "credit_df_copy['SEX'] = credit_df_copy['SEX'].apply(lambda x:1 if x == 'male' else 0)"
      ],
      "execution_count": null,
      "outputs": []
    },
    {
      "cell_type": "code",
      "metadata": {
        "id": "lIKyswf-TlcL"
      },
      "source": [
        "# Drop ID column\n",
        "#credit_df_copy.drop('ID',axis = 1, inplace = True)"
      ],
      "execution_count": null,
      "outputs": []
    },
    {
      "cell_type": "code",
      "metadata": {
        "id": "ai7bVwVaV50F"
      },
      "source": [
        "credit_df_copy.drop('ID', axis='columns', inplace=True)"
      ],
      "execution_count": null,
      "outputs": []
    },
    {
      "cell_type": "code",
      "metadata": {
        "id": "c4jBrXlrLBw3"
      },
      "source": [
        "# View the name of the column\n",
        "credit_df_copy.columns"
      ],
      "execution_count": null,
      "outputs": []
    },
    {
      "cell_type": "code",
      "metadata": {
        "id": "CVJ1Qz0nLPHd"
      },
      "source": [
        "# Check the shape of dataset after applying one hot encoding\n",
        "credit_df_copy.shape"
      ],
      "execution_count": null,
      "outputs": []
    },
    {
      "cell_type": "code",
      "metadata": {
        "id": "NBTDlM_yL3nx"
      },
      "source": [
        "credit_df_copy.head()"
      ],
      "execution_count": null,
      "outputs": []
    },
    {
      "cell_type": "markdown",
      "metadata": {
        "id": "8lXah8FFWpmS"
      },
      "source": [
        "# **Modelling**\n",
        "\n",
        "**Performance Metrics**\n",
        "\n",
        "*   Precision is a good metric to use when the costs of false positive(FP) is high.\n",
        "*   Precision = TP / (TP + FP)\n",
        "*   Recall is a good metric to use when the cost associated with false negative(FN) is high.\n",
        "*   Recall = TP / (TP + FN)\n",
        "*  F1-score is a weighted average of precision and recall. Thus, it considers FP and FN. This metric is very useful when we have uneven class distribution, as it seeks a balance between precision and recall.\n",
        "*   F1-score = 2 (precision recall) / (precision + recall)"
      ]
    },
    {
      "cell_type": "markdown",
      "metadata": {
        "id": "a_ec0yRLYJ8p"
      },
      "source": [
        "In this classification problem there is high cost for bank when a default credit card is predicted as non defaulter. So we will give more importance to recall."
      ]
    },
    {
      "cell_type": "markdown",
      "metadata": {
        "id": "N13NnSvsbWZH"
      },
      "source": [
        "# **Logistic Regression Implementation**"
      ]
    },
    {
      "cell_type": "code",
      "metadata": {
        "id": "O_ONohruMJ2p"
      },
      "source": [
        "# create a copy of dataset\n",
        "credit_df_logistic = credit_df_copy.copy()"
      ],
      "execution_count": null,
      "outputs": []
    },
    {
      "cell_type": "markdown",
      "metadata": {
        "id": "1cqBNyajdeOc"
      },
      "source": [
        "# Train - Test Split "
      ]
    },
    {
      "cell_type": "code",
      "metadata": {
        "id": "1xoJZxnwdVVU"
      },
      "source": [
        "# Assign x and y value\n",
        "X = credit_df_logistic.drop(['default_payment_next_month','total_pay_value','amt_due'],axis=1)\n",
        "y = credit_df_logistic['default_payment_next_month'] "
      ],
      "execution_count": null,
      "outputs": []
    },
    {
      "cell_type": "code",
      "metadata": {
        "id": "YgtVmAhxeRJ3"
      },
      "source": [
        "columns = X.columns"
      ],
      "execution_count": null,
      "outputs": []
    },
    {
      "cell_type": "code",
      "metadata": {
        "id": "B7vhP9tJeax1"
      },
      "source": [
        "# Apply standardscalar to standardise x value\n",
        "scaler = StandardScaler()\n",
        "X = scaler.fit_transform(X)"
      ],
      "execution_count": null,
      "outputs": []
    },
    {
      "cell_type": "code",
      "metadata": {
        "id": "K0qk-Bpte9HH"
      },
      "source": [
        "# Split the dataset\n",
        "X_train,X_test,y_train,y_test = train_test_split(X,y, test_size=0.33, random_state=42, stratify=y)"
      ],
      "execution_count": null,
      "outputs": []
    },
    {
      "cell_type": "markdown",
      "metadata": {
        "id": "IYoHx_fRgL50"
      },
      "source": [
        "# Hyperparameter tuning using GridSearchCV"
      ]
    },
    {
      "cell_type": "code",
      "metadata": {
        "id": "UAGkbg4ZgKCa"
      },
      "source": [
        "# Set the parameter\n",
        "param_grid = {'penalty':['l1','l2'], 'C' : [0.001, 0.01, 0.1, 1, 10, 100, 1000]}"
      ],
      "execution_count": null,
      "outputs": []
    },
    {
      "cell_type": "code",
      "metadata": {
        "id": "Ss-FyV0Vg2ED"
      },
      "source": [
        "# Fit the parameter\n",
        "grid_lr_clf = GridSearchCV(LogisticRegression(), param_grid, scoring = 'accuracy', n_jobs = -1, verbose = 3, cv = 3)\n",
        "grid_lr_clf.fit(X_train, y_train)"
      ],
      "execution_count": null,
      "outputs": []
    },
    {
      "cell_type": "code",
      "metadata": {
        "id": "vqawBE2VhOhK"
      },
      "source": [
        "optimized_clf_result = grid_lr_clf.best_estimator_\n",
        "grid_lr_clf.best_estimator_"
      ],
      "execution_count": null,
      "outputs": []
    },
    {
      "cell_type": "code",
      "metadata": {
        "id": "9g6yksd3hhoo"
      },
      "source": [
        "grid_lr_clf.best_score_"
      ],
      "execution_count": null,
      "outputs": []
    },
    {
      "cell_type": "code",
      "metadata": {
        "id": "WF27aT_ThlxN"
      },
      "source": [
        "# Predicted probability\n",
        "train_pred = optimized_clf_result.predict_proba(X_train)[:,1]\n",
        "test_pred = optimized_clf_result.predict_proba(X_test)[:,1]"
      ],
      "execution_count": null,
      "outputs": []
    },
    {
      "cell_type": "code",
      "metadata": {
        "id": "VHoXnicijCVx"
      },
      "source": [
        "# Get the predicted classes\n",
        "train_class_pred = optimized_clf_result.predict(X_train)\n",
        "test_class_pred = optimized_clf_result.predict(X_test)"
      ],
      "execution_count": null,
      "outputs": []
    },
    {
      "cell_type": "markdown",
      "metadata": {
        "id": "LWZZeTa2juoE"
      },
      "source": [
        "# **Model Evaluation**"
      ]
    },
    {
      "cell_type": "code",
      "metadata": {
        "id": "I54FDlD2jl71"
      },
      "source": [
        "# Get the accuracy score\n",
        "train_accuracy_logistic = accuracy_score(train_class_pred,y_train)\n",
        "test_accuracy_logistic = accuracy_score(test_class_pred,y_test)\n",
        "print('The accuracy on train data is', train_accuracy_logistic)\n",
        "print('The accuracy on test data is', test_accuracy_logistic)"
      ],
      "execution_count": null,
      "outputs": []
    },
    {
      "cell_type": "code",
      "metadata": {
        "id": "yebNuwm4kiUh"
      },
      "source": [
        "# Get the accuracy, precision, recall, f1score, roc_score\n",
        "test_accuracy_logistic = accuracy_score(test_class_pred,y_test)\n",
        "test_precision_logistic = precision_score(test_class_pred,y_test)\n",
        "test_recall_logistic = recall_score(test_class_pred,y_test)\n",
        "test_f1_logistic = f1_score(test_class_pred,y_test)\n",
        "test_roc_logistic = roc_auc_score(test_class_pred,y_test)\n",
        "\n",
        "print('The accuracy on test data is',test_accuracy_logistic)\n",
        "print('The precision on test data is',test_precision_logistic)\n",
        "print('The recall on test data is',test_recall_logistic)\n",
        "print('The f1 score on test data is',test_f1_logistic)\n",
        "print('The roc score on test data is',test_roc_logistic)"
      ],
      "execution_count": null,
      "outputs": []
    },
    {
      "cell_type": "markdown",
      "metadata": {
        "id": "HXxYlUj6oUCv"
      },
      "source": [
        "**Note**: We have implemented logistic regression and we getting f1_sore approx 73%. As we have imbalanced dataset, F1- score is better parameter."
      ]
    },
    {
      "cell_type": "markdown",
      "metadata": {
        "id": "fvoLgZyBou2F"
      },
      "source": [
        "# Confusion Matrix\n",
        "\n",
        "Confusion Matrix is a performance measurement for machine learning classification problem where output can be two or more classes. It is a table with 4 different combinations of predicted and actual values.\n",
        "\n"
      ]
    },
    {
      "cell_type": "code",
      "metadata": {
        "id": "muLI0otJn7Vj"
      },
      "source": [
        "# Get the confusion matrix for train and test data\n",
        "cnf_matrix_logistic = confusion_matrix(y_train, train_class_pred)\n",
        "print(cnf_matrix_logistic)"
      ],
      "execution_count": null,
      "outputs": []
    },
    {
      "cell_type": "code",
      "metadata": {
        "id": "9-UQGgsErt6U"
      },
      "source": [
        "# Plot confusion matrix\n",
        "labels = ['Not Defaulter', 'Defaulter']\n",
        "ax= plt.subplot()\n",
        "sns.heatmap(cnf_matrix_logistic, annot=True, ax = ax) #annot=True to annotate cells\n",
        "\n",
        "# labels, title and ticks\n",
        "ax.set_xlabel('Predicted labels')\n",
        "ax.set_ylabel('True labels')\n",
        "ax.set_title('Confusion Matrix')\n",
        "ax.xaxis.set_ticklabels(labels)\n",
        "ax.yaxis.set_ticklabels(labels)"
      ],
      "execution_count": null,
      "outputs": []
    },
    {
      "cell_type": "markdown",
      "metadata": {
        "id": "R4Pfz7RdseSs"
      },
      "source": [
        "**Features:** Feature importance refers to techniques that assign a score to input features based on how useful they are at predicting a target variable."
      ]
    },
    {
      "cell_type": "code",
      "metadata": {
        "id": "tksrhCSVsGpE"
      },
      "source": [
        "# Create a varaiable and assign features and importance\n",
        "feature_importance = pd.DataFrame({'Features':columns, 'Importance':np.abs(optimized_clf_result.coef_).ravel() })\n",
        "feature_importance = feature_importance.sort_values(by = 'Importance', ascending=False)[:10]"
      ],
      "execution_count": null,
      "outputs": []
    },
    {
      "cell_type": "code",
      "metadata": {
        "id": "-0sBrlqws6ub"
      },
      "source": [
        "# Plot the important features\n",
        "plt.bar(height=feature_importance['Importance'],x= feature_importance['Features'])\n",
        "plt.xticks(rotation=80)\n",
        "plt.title('Feature importance via coefficients')\n",
        "plt.show()"
      ],
      "execution_count": null,
      "outputs": []
    },
    {
      "cell_type": "markdown",
      "metadata": {
        "id": "wqhC0lcruQNk"
      },
      "source": [
        "**Conclusion**: From above plot we can see that PAY_MAY_1, PAY_APR_1 and PAY_JUNE_1 are the most important feature that make impact on dependent variable."
      ]
    },
    {
      "cell_type": "markdown",
      "metadata": {
        "id": "EPZBDeWLu_2m"
      },
      "source": [
        "# **ROC AUC Curve**\n",
        "\n",
        "*   An ROC curve (receiver operating characteristic curve) is a graph showing the performance of a classification model at all classification thresholds. This curve plots two parameters:\n",
        "*   True Positive Rate\n",
        "\n",
        "*   False Positive Rate\n",
        "*   AUC stands for \"Area under the ROC Curve.\" That is, AUC measures the entire two-dimensional area underneath the entire ROC curve\n",
        "\n",
        "\n",
        "\n"
      ]
    },
    {
      "cell_type": "code",
      "metadata": {
        "id": "UZWm6uK3t9R7"
      },
      "source": [
        "# Assign the variable\n",
        "y_pred_proba_logistic = optimized_clf_result.predict_proba(X_test)[::,1]"
      ],
      "execution_count": null,
      "outputs": []
    },
    {
      "cell_type": "code",
      "metadata": {
        "id": "w3-kJ-Zpv0mt"
      },
      "source": [
        "# Plot the curve\n",
        "y_pred_proba = y_pred_proba_logistic\n",
        "fpr,tpr, _ = roc_curve(y_test, y_pred_proba)\n",
        "auc = roc_auc_score(y_test, y_pred_proba)\n",
        "plt.plot(fpr,tpr,label= 'data 1, auc='+str(auc))\n",
        "plt.legend(loc=4)\n",
        "plt.show()"
      ],
      "execution_count": null,
      "outputs": []
    },
    {
      "cell_type": "markdown",
      "metadata": {
        "id": "_URXpJsaxo3j"
      },
      "source": [
        "# **XGBoost Implementation**\n",
        "\n",
        "*   The XGBoost model for classification is called XGBClassifier. We can create and and fit it to our training dataset. Models are fit using the scikit-learn API and the model.fit() function.\n",
        "\n",
        "\n"
      ]
    },
    {
      "cell_type": "code",
      "metadata": {
        "id": "b87EBDREwtbB"
      },
      "source": [
        "# The data is stored in Dmatrix object and label is used to define our outcome variable\n",
        "dtrain = xgb.DMatrix(X_train,label=y_train)\n",
        "dtest = xgb.DMatrix(X_test)"
      ],
      "execution_count": null,
      "outputs": []
    },
    {
      "cell_type": "code",
      "metadata": {
        "id": "kZKTuI1HzCUn"
      },
      "source": [
        "# Set the parameter for xgboost\n",
        "parameters={'max_depth':7, 'eta':1, 'silent':1,'objective':'binary:logistic','eval_metric':'auc','learning_rate':.05}"
      ],
      "execution_count": null,
      "outputs": []
    },
    {
      "cell_type": "code",
      "metadata": {
        "id": "ypW4l0FnzKTp"
      },
      "source": [
        "# Model Training\n",
        "num_round = 50\n",
        "start = datetime.now()\n",
        "xg= xgb.train(parameters,dtrain,num_round)\n",
        "stop = datetime.now()"
      ],
      "execution_count": null,
      "outputs": []
    },
    {
      "cell_type": "code",
      "metadata": {
        "id": "-4jmsODIz6gc"
      },
      "source": [
        "# Model execution time\n",
        "execution_time_xgb = stop-start\n",
        "execution_time_xgb"
      ],
      "execution_count": null,
      "outputs": []
    },
    {
      "cell_type": "code",
      "metadata": {
        "id": "eVaMKHPq0PsP"
      },
      "source": [
        "# Predicting our model on train set\n",
        "train_class_pred_probs = xg.predict(dtrain)"
      ],
      "execution_count": null,
      "outputs": []
    },
    {
      "cell_type": "code",
      "metadata": {
        "id": "LPIRApAg0kfL"
      },
      "source": [
        "# Predicting our model on test set\n",
        "test_class_pred_probs = xg.predict(dtest)\n",
        "len(train_class_pred_probs)"
      ],
      "execution_count": null,
      "outputs": []
    },
    {
      "cell_type": "code",
      "metadata": {
        "id": "zUOGYzdK0xiv"
      },
      "source": [
        "train_class_pred = []\n",
        "test_class_pred = []\n",
        "for i in range(0,len(train_class_pred_probs)):\n",
        "  if train_class_pred_probs[i] >= 0.5:\n",
        "    train_class_pred.append(1)\n",
        "  else:\n",
        "    train_class_pred.append(0)\n",
        "\n",
        "for i in range(0,len(test_class_pred_probs)):\n",
        "  if test_class_pred_probs[i] >= 0.5:\n",
        "    test_class_pred.append(1)\n",
        "  else:\n",
        "    test_class_pred.append(0)"
      ],
      "execution_count": null,
      "outputs": []
    },
    {
      "cell_type": "code",
      "metadata": {
        "id": "SErDrR9p1CwA"
      },
      "source": [
        "test_class_pred_probs[:20]"
      ],
      "execution_count": null,
      "outputs": []
    },
    {
      "cell_type": "code",
      "metadata": {
        "id": "usoSScrK2Vzc"
      },
      "source": [
        "test_class_pred[:20]"
      ],
      "execution_count": null,
      "outputs": []
    },
    {
      "cell_type": "code",
      "metadata": {
        "id": "UTza5ZR72dDP"
      },
      "source": [
        "len(y_train)"
      ],
      "execution_count": null,
      "outputs": []
    },
    {
      "cell_type": "code",
      "metadata": {
        "id": "NNBAcjrg2oXE"
      },
      "source": [
        "len(train_class_pred)"
      ],
      "execution_count": null,
      "outputs": []
    },
    {
      "cell_type": "markdown",
      "metadata": {
        "id": "RaOJWdI72w7b"
      },
      "source": [
        "**Model Evaluation**"
      ]
    },
    {
      "cell_type": "code",
      "metadata": {
        "id": "wYSxD5hI2rf6"
      },
      "source": [
        "# Get the accuracy scores\n",
        "train_accuracy_xgb = accuracy_score(train_class_pred,y_train)\n",
        "test_accuracy_xgb = accuracy_score(test_class_pred,y_test)\n",
        "\n",
        "print('The accuracy on train data is ', train_accuracy_xgb)\n",
        "print('The accuracy on test data is ', test_accuracy_xgb)"
      ],
      "execution_count": null,
      "outputs": []
    },
    {
      "cell_type": "code",
      "metadata": {
        "id": "CBdeiXBV3Ybv"
      },
      "source": [
        "# Get the accuracy, precision, recall, f1score, roc_score\n",
        "test_accuracy_xgb = accuracy_score(test_class_pred,y_test)\n",
        "test_precision_xgb = precision_score(test_class_pred,y_test)\n",
        "test_recall_xgb = recall_score(test_class_pred,y_test)\n",
        "test_f1_xgb = f1_score(test_class_pred,y_test)\n",
        "test_roc_xgb = roc_auc_score(test_class_pred,y_test)\n",
        "\n",
        "print('The accuracy on test data is', test_accuracy_xgb)\n",
        "print('The precision on test data is', test_precision_xgb)\n",
        "print('The recall on test data is', test_recall_xgb)\n",
        "print('The f1 score on test data is', test_f1_xgb)\n",
        "print('The roc score on test data is', test_roc_xgb)"
      ],
      "execution_count": null,
      "outputs": []
    },
    {
      "cell_type": "markdown",
      "metadata": {
        "id": "NQ2wR3FO44K8"
      },
      "source": [
        "**Confusion Matrix**"
      ]
    },
    {
      "cell_type": "code",
      "metadata": {
        "id": "StfJcOtz4vBo"
      },
      "source": [
        "# Get the confusion matrix for train and test data\n",
        "cnf_matrix_xg = confusion_matrix(y_train, train_class_pred)\n",
        "print(cnf_matrix_xg)"
      ],
      "execution_count": null,
      "outputs": []
    },
    {
      "cell_type": "code",
      "metadata": {
        "id": "GVzy1jMS5RTz"
      },
      "source": [
        "# Plot confusion matrix\n",
        "labels = ['Not Defaulter', 'Defaulter']\n",
        "ax= plt.subplot()\n",
        "sns.heatmap(cnf_matrix_xg, annot=True, ax = ax) #annot=True to annotate cells\n",
        "\n",
        "# labels, title and ticks\n",
        "ax.set_xlabel('Predicted labels')\n",
        "ax.set_ylabel('True labels')\n",
        "ax.set_title('Confusion Matrix')\n",
        "ax.xaxis.set_ticklabels(labels)\n",
        "ax.yaxis.set_ticklabels(labels)"
      ],
      "execution_count": null,
      "outputs": []
    },
    {
      "cell_type": "markdown",
      "metadata": {
        "id": "B4KIWIRE5up5"
      },
      "source": [
        "# **Hyperparameter Tuning**\n",
        "\n",
        "*   Hyperparameters are crucial as they control the overall behaviour of a machine learning model. The ultimate goal is to find an optimal combination of hyperparameters that minimizes a predefined loss function to give better results.\n",
        "\n",
        "*   We can leverage the maximum power of XGBoost by tuning its hyperparameters.\n"
      ]
    },
    {
      "cell_type": "code",
      "metadata": {
        "id": "kxabUIxF5jax"
      },
      "source": [
        "# Define the x and y value\n",
        "X = credit_df_copy.drop(['default_payment_next_month','total_pay_value','amt_due'],axis=1)\n",
        "y = credit_df_copy['default_payment_next_month']"
      ],
      "execution_count": null,
      "outputs": []
    },
    {
      "cell_type": "code",
      "metadata": {
        "id": "Fk7kaIIZ7SA-"
      },
      "source": [
        "# Split the data set\n",
        "X_train, X_test, y_train, y_test = train_test_split(X, y, test_size=0.33, random_state=42, stratify = y)"
      ],
      "execution_count": null,
      "outputs": []
    },
    {
      "cell_type": "code",
      "metadata": {
        "id": "Wg5zGZ0L7fSC"
      },
      "source": [
        "param_test1 = {\n",
        "    'max_depth':range(3,10,2),\n",
        "    'min_child_weight':range(1,6,2)\n",
        "}\n",
        "gsearch1 = GridSearchCV(estimator=XGBClassifier(learning_rate=0.1, n_estimators=140,max_depth=5,\n",
        "                                                min_child_weight=1,gamma=0,subsample=0.8,colsample_bytree=0.8,\n",
        "                                                objective = 'binary:logistic',nthread=4,scale_pos_weight=1,seed=27),\n",
        "                        param_grid=param_test1,scoring='accuracy',n_jobs=-1,cv=3,verbose=2)\n",
        "gsearch1.fit(X_train,y_train)"
      ],
      "execution_count": null,
      "outputs": []
    },
    {
      "cell_type": "code",
      "metadata": {
        "id": "mKiPXMpy-y1F"
      },
      "source": [
        " # Get the best score\n",
        " gsearch1.best_score_"
      ],
      "execution_count": null,
      "outputs": []
    },
    {
      "cell_type": "code",
      "metadata": {
        "id": "XYyjeF___8SP"
      },
      "source": [
        "# Get the best estimator\n",
        "optimal_xgb_result = gsearch1.best_estimator_"
      ],
      "execution_count": null,
      "outputs": []
    },
    {
      "cell_type": "code",
      "metadata": {
        "id": "LK83z3fUAdTH"
      },
      "source": [
        "# Get the predicted class\n",
        "train_class_pred = optimal_xgb_result.predict(X_train)\n",
        "test_class_pred = optimal_xgb_result.predict(X_test)"
      ],
      "execution_count": null,
      "outputs": []
    },
    {
      "cell_type": "code",
      "metadata": {
        "id": "8-hRUH78A9PV"
      },
      "source": [
        "# Get the accuracy score after hyperparameter tuning\n",
        "train_accuracy_xgb_tuned = accuracy_score(train_class_pred,y_train)\n",
        "test_accuracy_xgb_tuned = accuracy_score(test_class_pred,y_test)\n",
        "\n",
        "print('The accuracy score on train data after hyperparameter tuning is ', train_accuracy_xgb_tuned)\n",
        "print('The accuracy score on test data after hyperparameter tuning is', test_accuracy_xgb_tuned)"
      ],
      "execution_count": null,
      "outputs": []
    },
    {
      "cell_type": "code",
      "metadata": {
        "id": "FTQ5I9JuDBG2"
      },
      "source": [
        "# Get the accuracy, precision, recall, f1score, roc_score after tuning\n",
        "test_accuracy_xgb_tuned = accuracy_score(test_class_pred,y_test)\n",
        "test_precision_xgb_tuned = precision_score(test_class_pred,y_test)\n",
        "test_recall_xgb_tuned = recall_score(test_class_pred,y_test)\n",
        "test_f1_xgb_tuned = f1_score(test_class_pred,y_test)\n",
        "test_roc_xgb_tuned = roc_auc_score(test_class_pred,y_test)\n",
        "\n",
        "print('The accuracy on test data after hyperparameter tuning is ', test_accuracy_xgb_tuned)\n",
        "print('The Precision on test data after hyperparameter tuning is ', test_precision_xgb_tuned)\n",
        "print('The recall on test data after hyperparameter tuning is ', test_recall_xgb_tuned)\n",
        "print('The f1 score on test data after hyperparameter tuning is ', test_f1_xgb_tuned)\n",
        "print('The roc score on test data after hyperparameter tuning is ', test_roc_xgb_tuned)"
      ],
      "execution_count": null,
      "outputs": []
    },
    {
      "cell_type": "code",
      "metadata": {
        "id": "SSMCswv4EXLP"
      },
      "source": [
        "# Store the values of feature in dataframe and sort them\n",
        "pd.DataFrame(optimal_xgb_result.feature_importances_,\n",
        "                                   index = columns,\n",
        "                                    columns=['importance_xgb']).sort_values('importance_xgb',\n",
        "                                                                        ascending=False)[:10]"
      ],
      "execution_count": null,
      "outputs": []
    },
    {
      "cell_type": "code",
      "metadata": {
        "id": "QssOaP1QEskG"
      },
      "source": [
        "# Create the variable and plot the bar graph for feature importance\n",
        "\n",
        "feature_importance_xgb = pd.DataFrame(optimal_xgb_result.feature_importances_,\n",
        "                                   index = columns,\n",
        "                                    columns=['importance_xgb']).sort_values('importance_xgb',\n",
        "                                                                        ascending=False)[:10]\n",
        "                                    \n",
        "plt.subplots(figsize=(17,6))\n",
        "plt.title(\"Feature importances\")\n",
        "plt.bar(feature_importance_xgb.index, feature_importance_xgb['importance_xgb'],\n",
        "        color=\"b\",  align=\"center\")\n",
        "plt.xticks(feature_importance_xgb.index, rotation = 85)\n",
        "plt.show()"
      ],
      "execution_count": null,
      "outputs": []
    },
    {
      "cell_type": "markdown",
      "metadata": {
        "id": "Rx9rPawUF2LJ"
      },
      "source": [
        "Conclusion: From above plot we can say that most important feature is PAY_AUG_1 that effect the target variable."
      ]
    },
    {
      "cell_type": "markdown",
      "metadata": {
        "id": "yceGQnKxGKje"
      },
      "source": [
        "# **ROC AUC Curve**"
      ]
    },
    {
      "cell_type": "code",
      "metadata": {
        "id": "POM0Fk9DFojX"
      },
      "source": [
        "# Assign the variable\n",
        "y_pred_proba_xgb = optimal_xgb_result.predict_proba(X_test)[::,1]"
      ],
      "execution_count": null,
      "outputs": []
    },
    {
      "cell_type": "code",
      "metadata": {
        "id": "Lfjm7fOHGwAi"
      },
      "source": [
        "# Plot the curve\n",
        "y_pred_proba = y_pred_proba_xgb\n",
        "fpr, tpr, _ = metrics.roc_curve(y_test,  y_pred_proba)\n",
        "auc = metrics.roc_auc_score(y_test, y_pred_proba)\n",
        "plt.plot(fpr,tpr,label=\"data 1, auc=\"+str(auc))\n",
        "plt.legend(loc=4)\n",
        "plt.show()"
      ],
      "execution_count": null,
      "outputs": []
    },
    {
      "cell_type": "markdown",
      "metadata": {
        "id": "lAZ-TWBgSEVx"
      },
      "source": [
        "# **RandomForest Implementation**"
      ]
    },
    {
      "cell_type": "code",
      "metadata": {
        "id": "fJPDrmkVG_gF"
      },
      "source": [
        "# Assign the x and y value\n",
        "X = credit_df_copy.drop(['default_payment_next_month', 'total_pay_value', 'amt_due'], axis = 1)\n",
        "y = credit_df_copy['default_payment_next_month']"
      ],
      "execution_count": null,
      "outputs": []
    },
    {
      "cell_type": "code",
      "metadata": {
        "id": "WlyavLJ-TBe8"
      },
      "source": [
        "# Apply and fit the model\n",
        "rf_clf = RandomForestClassifier()\n",
        "rf_clf.fit(X_train,y_train)"
      ],
      "execution_count": null,
      "outputs": []
    },
    {
      "cell_type": "code",
      "metadata": {
        "id": "LahMrkzeTSby"
      },
      "source": [
        "# Get the predicted classes\n",
        "train_class_pred = rf_clf.predict(X_train)\n",
        "test_class_pred = rf_clf.predict(X_test)"
      ],
      "execution_count": null,
      "outputs": []
    },
    {
      "cell_type": "markdown",
      "metadata": {
        "id": "n4BfukqQT0fG"
      },
      "source": [
        "# Model Evaluation"
      ]
    },
    {
      "cell_type": "code",
      "metadata": {
        "id": "aT8857XCTxhv"
      },
      "source": [
        "# Get the accuracy score\n",
        "train_accuracy_rf = accuracy_score(train_class_pred, y_train)\n",
        "test_accuracy_rf = accuracy_score(test_class_pred, y_test)\n",
        "\n",
        "print('The accuracy score on train data is ', train_accuracy_rf)\n",
        "print('The accuracy score on test data is ', test_accuracy_rf)"
      ],
      "execution_count": null,
      "outputs": []
    },
    {
      "cell_type": "code",
      "metadata": {
        "id": "2OuxcJ-YUcZ7"
      },
      "source": [
        "# Get the accuracy, precision, recall, f1score, roc_score\n",
        "test_accuracy_rf = accuracy_score(test_class_pred, y_test)\n",
        "test_precision_rf = precision_score(test_class_pred, y_test)\n",
        "test_recall_rf = recall_score(test_class_pred, y_test)\n",
        "test_f1_rf = f1_score(test_class_pred, y_test)\n",
        "test_roc_rf = roc_auc_score(test_class_pred, y_test)\n",
        "\n",
        "print('The accuracy on test data is ', test_accuracy_rf)\n",
        "print('The precision on test data is ', test_precision_rf)\n",
        "print('The recall on test data is ', test_recall_rf)\n",
        "print('The f1 score on test data is ', test_f1_rf)\n",
        "print('The roc score on test data is ', test_roc_rf)"
      ],
      "execution_count": null,
      "outputs": []
    },
    {
      "cell_type": "markdown",
      "metadata": {
        "id": "4aeR5J1bVqaB"
      },
      "source": [
        "Conclusion: We can see from above results that we are getting around 99% train accuracy and 83% for test accuracy which depicts that model is overfitting."
      ]
    },
    {
      "cell_type": "markdown",
      "metadata": {
        "id": "BoJPokdZV0aa"
      },
      "source": [
        "**Hyperparameter Tuning**"
      ]
    },
    {
      "cell_type": "code",
      "metadata": {
        "id": "FeqyfMQgViQk"
      },
      "source": [
        "# Set the parameter\n",
        "param_grid = {'n_estimators': [150,200,250], 'max_depth':[20,40,60]}"
      ],
      "execution_count": null,
      "outputs": []
    },
    {
      "cell_type": "code",
      "metadata": {
        "id": "ntGTnefqWPh1"
      },
      "source": [
        "# Fit the parameter\n",
        "grid_rf_clf = GridSearchCV(RandomForestClassifier(),param_grid, scoring='accuracy', n_jobs=-1, verbose = 3, cv = 5)\n",
        "grid_rf_clf.fit(X_train,y_train)"
      ],
      "execution_count": null,
      "outputs": []
    },
    {
      "cell_type": "code",
      "metadata": {
        "id": "28djbyz_WxV3"
      },
      "source": [
        "# Check the best score\n",
        "grid_rf_clf.best_score_"
      ],
      "execution_count": null,
      "outputs": []
    },
    {
      "cell_type": "code",
      "metadata": {
        "id": "UyMekCo4Xwd_"
      },
      "source": [
        "# Check the best parameter\n",
        "grid_rf_clf.best_params_"
      ],
      "execution_count": null,
      "outputs": []
    },
    {
      "cell_type": "code",
      "metadata": {
        "id": "bxAnHDMPX5Da"
      },
      "source": [
        "# create a variable for best estimator\n",
        "optimal_rf_result = grid_rf_clf.best_estimator_"
      ],
      "execution_count": null,
      "outputs": []
    },
    {
      "cell_type": "code",
      "metadata": {
        "id": "qmAcDwmRaLGF"
      },
      "source": [
        "# Get the predicted class\n",
        "train_class_pred = optimal_rf_result.predict(X_train)\n",
        "test_class_pred = optimal_rf_result.predict(X_test)"
      ],
      "execution_count": null,
      "outputs": []
    },
    {
      "cell_type": "code",
      "metadata": {
        "id": "XREGL6H3ahpB"
      },
      "source": [
        "# Get the accuracy score on train and test data\n",
        "train_accuracy_rf_tuned = accuracy_score(train_class_pred,y_train)\n",
        "test_accuracy_rf_tuned = accuracy_score(test_class_pred,y_test)\n",
        "\n",
        "print('The accuracy score on train data after hyperparameter tuning is ', train_accuracy_rf_tuned)\n",
        "print('The accuracy score on test data after hyperparameter tuning is ', test_accuracy_rf_tuned)"
      ],
      "execution_count": null,
      "outputs": []
    },
    {
      "cell_type": "code",
      "metadata": {
        "id": "VExDFd8MbRLS"
      },
      "source": [
        "# Get the accuracy, precision, recall, f1score, roc_score after hyperparameter tuning\n",
        "test_accuracy_rf_tuned = accuracy_score(test_class_pred,y_test)\n",
        "test_precision_rf_tuned = precision_score(test_class_pred,y_test)\n",
        "test_recall_rf_tuned = recall_score(test_class_pred,y_test)\n",
        "test_f1_rf_tuned = f1_score(test_class_pred,y_test)\n",
        "test_roc_rf_tuned = roc_auc_score(test_class_pred,y_test)\n",
        "\n",
        "print('The accuracy after hyperparameter tuning is', test_accuracy_rf_tuned)\n",
        "print('The precision after hyperparameter tuning is ', test_precision_rf_tuned)\n",
        "print('The recall after hyperparameter tuning is ', test_recall_rf_tuned)\n",
        "print('The f1 score after hyperparameter tuning is ', test_f1_rf_tuned)\n",
        "print('The roc score after hyperparameter tuning is ', test_roc_rf_tuned)\n"
      ],
      "execution_count": null,
      "outputs": []
    },
    {
      "cell_type": "markdown",
      "metadata": {
        "id": "sdghgaU2c-EI"
      },
      "source": [
        "**Confusion Matrix**"
      ]
    },
    {
      "cell_type": "code",
      "metadata": {
        "id": "1cMXZPtUcsif"
      },
      "source": [
        "# Get the confusion matrix from both the train and test data\n",
        "cnf_matrix_rf = confusion_matrix(y_train, train_class_pred)\n",
        "print(cnf_matrix_rf)"
      ],
      "execution_count": null,
      "outputs": []
    },
    {
      "cell_type": "code",
      "metadata": {
        "id": "bwK8y845dVPo"
      },
      "source": [
        "# Plot confusion matrix\n",
        "labels = ['Not Defaulter', 'Defaulter']\n",
        "ax= plt.subplot()\n",
        "sns.heatmap(cnf_matrix_rf, annot=True, ax = ax) #annot=True to annotate cells\n",
        "\n",
        "# labels, title and ticks\n",
        "ax.set_xlabel('Predicted labels')\n",
        "ax.set_ylabel('True labels')\n",
        "ax.set_title('Confusion Matrix')\n",
        "ax.xaxis.set_ticklabels(labels)\n",
        "ax.yaxis.set_ticklabels(labels)"
      ],
      "execution_count": null,
      "outputs": []
    },
    {
      "cell_type": "markdown",
      "metadata": {
        "id": "hlfyMfyhdx2V"
      },
      "source": [
        "**Feature Importance**"
      ]
    },
    {
      "cell_type": "code",
      "metadata": {
        "id": "PRw9WLm3dmO8"
      },
      "source": [
        "# Store the values of feature in dataframe and plot the graph for top 10 feature importance\n",
        "feature_importance_rf = pd.DataFrame(optimal_rf_result.feature_importances_,\n",
        "                                   index = columns,\n",
        "                                    columns=['importance_rf']).sort_values('importance_rf',\n",
        "                                                                        ascending=False)[:10]\n",
        "                                    \n",
        "plt.subplots(figsize=(17,6))\n",
        "plt.title(\"Feature importances\")\n",
        "plt.bar(feature_importance_rf.index, feature_importance_rf['importance_rf'],\n",
        "        color=\"b\",  align=\"center\")\n",
        "plt.xticks(feature_importance_rf.index, rotation = 85)\n",
        "plt.show()"
      ],
      "execution_count": null,
      "outputs": []
    },
    {
      "cell_type": "markdown",
      "metadata": {
        "id": "GgU-vz-ue47V"
      },
      "source": [
        "Conclusion: From the above feature importance graph we can say that the most important feature that make an impact on dependt variable are LIMIT_BAL and PAY_SEP."
      ]
    },
    {
      "cell_type": "markdown",
      "metadata": {
        "id": "LRy9BFdTfFGC"
      },
      "source": [
        "**ROC AUC Curve**"
      ]
    },
    {
      "cell_type": "code",
      "metadata": {
        "id": "GGWhcjsBemMp"
      },
      "source": [
        "# Get the predicted class\n",
        "train_class_pred = optimal_rf_result.predict(X_train)\n",
        "test_class_pred = optimal_rf_result.predict(X_test)\n",
        "#Assign the variable\n",
        "y_pred_proba_rf = optimal_rf_result.predict_proba(X_test)[::,1]"
      ],
      "execution_count": null,
      "outputs": []
    },
    {
      "cell_type": "code",
      "metadata": {
        "id": "YZtSG-oHfbXf"
      },
      "source": [
        "# Plot the curve\n",
        "y_pred_proba = y_pred_proba_rf\n",
        "fpr, tpr, _ = metrics.roc_curve(y_test,  y_pred_proba)\n",
        "auc = metrics.roc_auc_score(y_test, y_pred_proba)\n",
        "plt.plot(fpr,tpr,label=\"data 1, auc=\"+str(auc))\n",
        "plt.legend(loc=4)\n",
        "plt.show()"
      ],
      "execution_count": null,
      "outputs": []
    },
    {
      "cell_type": "markdown",
      "metadata": {
        "id": "QREa2C3zgOSx"
      },
      "source": [
        "# **Support Vector Classifier(SVC) Implementation**\n",
        "\n",
        "*   The Linear Support Vector Classifier (SVC) method applies a linear kernel function to perform classification and it performs well with a large number of samples. If we compare it with the SVC model, the Linear SVC has additional parameters such as penalty normalization which applies 'L1' or 'L2' and loss function.\n"
      ]
    },
    {
      "cell_type": "code",
      "metadata": {
        "id": "Rx47nbIGgATb"
      },
      "source": [
        "# Create the copy of dataset\n",
        "credit_df_svc = credit_df_copy.copy()"
      ],
      "execution_count": null,
      "outputs": []
    },
    {
      "cell_type": "code",
      "metadata": {
        "id": "OG83YZDVg3nJ"
      },
      "source": [
        "# Create the parameters\n",
        "param_grid_svc = {'C':[5],'kernel':['rbf']} "
      ],
      "execution_count": null,
      "outputs": []
    },
    {
      "cell_type": "code",
      "metadata": {
        "id": "EtE1RAFnhUSg"
      },
      "source": [
        "# Standardise the dataset\n",
        "scaler_svc = StandardScaler()\n",
        "X = scaler_svc.fit_transform(X)"
      ],
      "execution_count": null,
      "outputs": []
    },
    {
      "cell_type": "code",
      "metadata": {
        "id": "sKsA5qefhngh"
      },
      "source": [
        "# Split the dataset\n",
        "X_train,X_test,y_train,y_test = train_test_split(X, y, test_size=0.25, random_state=42, stratify= y)"
      ],
      "execution_count": null,
      "outputs": []
    },
    {
      "cell_type": "code",
      "metadata": {
        "id": "AkEQZMsSaaEJ"
      },
      "source": [
        "# Set the parameter and fit the model\n",
        "grid_svc_clf = GridSearchCV(SVC(probability=True),param_grid_svc,scoring='accuracy',n_jobs= -1, verbose = 3, cv= 2)\n",
        "grid_svc_clf.fit(X_train, y_train)"
      ],
      "execution_count": null,
      "outputs": []
    },
    {
      "cell_type": "code",
      "metadata": {
        "id": "RUBdRUbabjka"
      },
      "source": [
        "# Get the best parameters\n",
        "grid_svc_clf.best_params_"
      ],
      "execution_count": null,
      "outputs": []
    },
    {
      "cell_type": "code",
      "metadata": {
        "id": "8LxXzI3Vgtbk"
      },
      "source": [
        "# Get the best score\n",
        "grid_svc_clf.best_score_"
      ],
      "execution_count": null,
      "outputs": []
    },
    {
      "cell_type": "code",
      "metadata": {
        "id": "VGOYlaN3g1z_"
      },
      "source": [
        "# Get the best estimator\n",
        "optimal_svc_result = grid_svc_clf.best_estimator_\n",
        "optimal_svc_result"
      ],
      "execution_count": null,
      "outputs": []
    },
    {
      "cell_type": "markdown",
      "metadata": {
        "id": "Tq-Us4E3hPpx"
      },
      "source": [
        "Model Evaluation"
      ]
    },
    {
      "cell_type": "code",
      "metadata": {
        "id": "D4AiJvy1hEMX"
      },
      "source": [
        "# Get the predicted class\n",
        "train_class_pred_svc = optimal_svc_result.predict(X_train)\n",
        "test_class_pred_svc = optimal_svc_result.predict(X_test)"
      ],
      "execution_count": null,
      "outputs": []
    },
    {
      "cell_type": "code",
      "metadata": {
        "id": "j9Rn5tzghtCZ"
      },
      "source": [
        "# Get the accuracy score\n",
        "train_accuracy_svc = accuracy_score(train_class_pred_svc,y_train)\n",
        "test_accuracy_svc = accuracy_score(test_class_pred_svc,y_test)\n",
        "\n",
        "print('The accuracy on train data is ', train_accuracy_svc)\n",
        "print('The accuracy on train data is ', test_accuracy_svc)"
      ],
      "execution_count": null,
      "outputs": []
    },
    {
      "cell_type": "code",
      "metadata": {
        "id": "T287HWE4i6zU"
      },
      "source": [
        "# # Get the accuracy, precision, recall, f1score, roc_score after hyperparameter tuning\n",
        "test_accuracy_svc = accuracy_score(test_class_pred_svc,y_test)\n",
        "test_precision_svc = precision_score(test_class_pred_svc,y_test)\n",
        "test_recall_svc = recall_score(test_class_pred_svc,y_test)\n",
        "test_f1_svc = f1_score(test_class_pred_svc,y_test)\n",
        "test_roc_svc = roc_auc_score(test_class_pred_svc,y_test)\n",
        "\n",
        "print('The accuracy score on test data is ', test_accuracy_svc)\n",
        "print('The precision score on test data is ', test_precision_svc)\n",
        "print('The recall on test data is', test_recall_svc)\n",
        "print(\"The f1 score on test data is \", test_f1_svc)\n",
        "print('The roc score on tes data is ', test_roc_svc)"
      ],
      "execution_count": null,
      "outputs": []
    },
    {
      "cell_type": "markdown",
      "metadata": {
        "id": "6drswLxtkn9o"
      },
      "source": [
        "**Confusion Matrix**"
      ]
    },
    {
      "cell_type": "code",
      "metadata": {
        "id": "HP4rnS1BkB6M"
      },
      "source": [
        "# Get the confusion matrix for train and test data\n",
        "labels = ['Not Defaulter', 'Defaulter']\n",
        "cnf_matrix_svc = confusion_matrix(y_train, train_class_pred_svc)\n",
        "print(cnf_matrix_svc)\n",
        "\n",
        "ax= plt.subplot()\n",
        "sns.heatmap(cnf_matrix_svc, annot=True, ax = ax) #annot=True to annotate cells\n",
        "\n",
        "# labels, title and ticks\n",
        "ax.set_xlabel('Predicted labels')\n",
        "ax.set_ylabel('True labels')\n",
        "ax.set_title('Confusion Matrix')\n",
        "ax.xaxis.set_ticklabels(labels)\n",
        "ax.yaxis.set_ticklabels(labels)"
      ],
      "execution_count": null,
      "outputs": []
    },
    {
      "cell_type": "markdown",
      "metadata": {
        "id": "MUpIgBqSllw4"
      },
      "source": [
        "**ROC AUC Curve**"
      ]
    },
    {
      "cell_type": "code",
      "metadata": {
        "id": "a-0PtyoqlJ_u"
      },
      "source": [
        "# Get the predicted class\n",
        "train_class_pred_svc = optimal_svc_result.predict(X_train)\n",
        "test_class_pred_svc = optimal_svc_result.predict(X_test)"
      ],
      "execution_count": null,
      "outputs": []
    },
    {
      "cell_type": "code",
      "metadata": {
        "id": "xyLrBtDpl4DB"
      },
      "source": [
        "# Create the variable\n",
        "y_pred_proba_svc = optimal_svc_result.predict_proba(X_test)[::,1]"
      ],
      "execution_count": null,
      "outputs": []
    },
    {
      "cell_type": "code",
      "metadata": {
        "id": "OS5kG5_nmqPr"
      },
      "source": [
        "# Plot the curve\n",
        "fpr,tpr, _ = roc_curve(y_test,y_pred_proba_svc)\n",
        "auc = roc_auc_score(y_test, y_pred_proba_svc)\n",
        "plt.plot(fpr,tpr,label='data 1, auc ='+str(auc))\n",
        "plt.legend(loc=4)\n",
        "plt.show()"
      ],
      "execution_count": null,
      "outputs": []
    },
    {
      "cell_type": "markdown",
      "metadata": {
        "id": "OjuJ-Z_RoL-T"
      },
      "source": [
        "# **Evaluating all the models**"
      ]
    },
    {
      "cell_type": "code",
      "metadata": {
        "id": "dBSNigKvnvVk"
      },
      "source": [
        "recall_score"
      ],
      "execution_count": null,
      "outputs": []
    },
    {
      "cell_type": "code",
      "metadata": {
        "id": "USHLkuCeoWBu"
      },
      "source": [
        "# Create a table for comparison of all the scores from all the models\n",
        "classifiers = ['Logistic Regression', 'SVC', 'Random Forest CLF', 'Xgboost CLF']\n",
        "overall_train_accuracy = [train_accuracy_logistic, train_accuracy_xgb_tuned, train_accuracy_rf_tuned, train_accuracy_svc]\n",
        "overall_test_accuracy = [test_accuracy_logistic, test_accuracy_xgb_tuned, test_accuracy_rf_tuned, test_accuracy_svc ]\n",
        "overall_precision_score = [test_precision_logistic, test_precision_xgb_tuned, test_precision_rf_tuned, test_precision_svc]\n",
        "overall_recall_score = [test_recall_logistic, test_recall_xgb_tuned, test_recall_rf_tuned, test_recall_svc]\n",
        "overall_f1_score = [test_f1_logistic, test_f1_xgb_tuned, test_f1_rf_tuned, test_f1_svc]"
      ],
      "execution_count": null,
      "outputs": []
    },
    {
      "cell_type": "code",
      "metadata": {
        "id": "ppx0vUAVuAUu"
      },
      "source": [
        "pd.DataFrame({'Classifier':classifiers, 'Train Accuracy':overall_train_accuracy, 'Test Accuracy':overall_test_accuracy, 'Precision Score':overall_precision_score, 'Recall Score':overall_recall_score, 'F1 Score':overall_f1_score})"
      ],
      "execution_count": null,
      "outputs": []
    },
    {
      "cell_type": "code",
      "metadata": {
        "id": "3aw-IXbfxkpR"
      },
      "source": [
        ""
      ],
      "execution_count": null,
      "outputs": []
    }
  ]
}